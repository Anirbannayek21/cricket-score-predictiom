{
 "cells": [
  {
   "cell_type": "markdown",
   "metadata": {
    "colab_type": "text",
    "id": "giZKZaVGxCPr"
   },
   "source": [
    "### load datadet"
   ]
  },
  {
   "cell_type": "code",
   "execution_count": null,
   "metadata": {
    "colab": {},
    "colab_type": "code",
    "id": "yLlkx3gLO_oI"
   },
   "outputs": [],
   "source": [
    "import pandas as pd\n",
    "data_path ='/content/drive/My Drive/machine learning/regression/ipl_score_prediction/ipl.csv'"
   ]
  },
  {
   "cell_type": "code",
   "execution_count": null,
   "metadata": {
    "colab": {},
    "colab_type": "code",
    "id": "MfyxHpcgREmV"
   },
   "outputs": [],
   "source": [
    "df = pd.read_csv(data_path)\n"
   ]
  },
  {
   "cell_type": "code",
   "execution_count": null,
   "metadata": {
    "colab": {
     "base_uri": "https://localhost:8080/",
     "height": 716
    },
    "colab_type": "code",
    "executionInfo": {
     "elapsed": 4392,
     "status": "ok",
     "timestamp": 1594348876916,
     "user": {
      "displayName": "anirban nayek",
      "photoUrl": "https://lh3.googleusercontent.com/a-/AOh14GhXCTdgvlsaGvJwJY3vKdhp56QTTtCdyHO7wY0vxg=s64",
      "userId": "01629633000911080543"
     },
     "user_tz": -330
    },
    "id": "4Jpe-GHMRKII",
    "outputId": "8ca6c1ab-1008-4758-bf38-905437c65636"
   },
   "outputs": [
    {
     "data": {
      "text/html": [
       "<div>\n",
       "<style scoped>\n",
       "    .dataframe tbody tr th:only-of-type {\n",
       "        vertical-align: middle;\n",
       "    }\n",
       "\n",
       "    .dataframe tbody tr th {\n",
       "        vertical-align: top;\n",
       "    }\n",
       "\n",
       "    .dataframe thead th {\n",
       "        text-align: right;\n",
       "    }\n",
       "</style>\n",
       "<table border=\"1\" class=\"dataframe\">\n",
       "  <thead>\n",
       "    <tr style=\"text-align: right;\">\n",
       "      <th></th>\n",
       "      <th>mid</th>\n",
       "      <th>date</th>\n",
       "      <th>venue</th>\n",
       "      <th>bat_team</th>\n",
       "      <th>bowl_team</th>\n",
       "      <th>batsman</th>\n",
       "      <th>bowler</th>\n",
       "      <th>runs</th>\n",
       "      <th>wickets</th>\n",
       "      <th>overs</th>\n",
       "      <th>runs_last_5</th>\n",
       "      <th>wickets_last_5</th>\n",
       "      <th>striker</th>\n",
       "      <th>non-striker</th>\n",
       "      <th>total</th>\n",
       "    </tr>\n",
       "  </thead>\n",
       "  <tbody>\n",
       "    <tr>\n",
       "      <th>0</th>\n",
       "      <td>1</td>\n",
       "      <td>2008-04-18</td>\n",
       "      <td>M Chinnaswamy Stadium</td>\n",
       "      <td>Kolkata Knight Riders</td>\n",
       "      <td>Royal Challengers Bangalore</td>\n",
       "      <td>SC Ganguly</td>\n",
       "      <td>P Kumar</td>\n",
       "      <td>1</td>\n",
       "      <td>0</td>\n",
       "      <td>0.1</td>\n",
       "      <td>1</td>\n",
       "      <td>0</td>\n",
       "      <td>0</td>\n",
       "      <td>0</td>\n",
       "      <td>222</td>\n",
       "    </tr>\n",
       "    <tr>\n",
       "      <th>1</th>\n",
       "      <td>1</td>\n",
       "      <td>2008-04-18</td>\n",
       "      <td>M Chinnaswamy Stadium</td>\n",
       "      <td>Kolkata Knight Riders</td>\n",
       "      <td>Royal Challengers Bangalore</td>\n",
       "      <td>BB McCullum</td>\n",
       "      <td>P Kumar</td>\n",
       "      <td>1</td>\n",
       "      <td>0</td>\n",
       "      <td>0.2</td>\n",
       "      <td>1</td>\n",
       "      <td>0</td>\n",
       "      <td>0</td>\n",
       "      <td>0</td>\n",
       "      <td>222</td>\n",
       "    </tr>\n",
       "    <tr>\n",
       "      <th>2</th>\n",
       "      <td>1</td>\n",
       "      <td>2008-04-18</td>\n",
       "      <td>M Chinnaswamy Stadium</td>\n",
       "      <td>Kolkata Knight Riders</td>\n",
       "      <td>Royal Challengers Bangalore</td>\n",
       "      <td>BB McCullum</td>\n",
       "      <td>P Kumar</td>\n",
       "      <td>2</td>\n",
       "      <td>0</td>\n",
       "      <td>0.2</td>\n",
       "      <td>2</td>\n",
       "      <td>0</td>\n",
       "      <td>0</td>\n",
       "      <td>0</td>\n",
       "      <td>222</td>\n",
       "    </tr>\n",
       "    <tr>\n",
       "      <th>3</th>\n",
       "      <td>1</td>\n",
       "      <td>2008-04-18</td>\n",
       "      <td>M Chinnaswamy Stadium</td>\n",
       "      <td>Kolkata Knight Riders</td>\n",
       "      <td>Royal Challengers Bangalore</td>\n",
       "      <td>BB McCullum</td>\n",
       "      <td>P Kumar</td>\n",
       "      <td>2</td>\n",
       "      <td>0</td>\n",
       "      <td>0.3</td>\n",
       "      <td>2</td>\n",
       "      <td>0</td>\n",
       "      <td>0</td>\n",
       "      <td>0</td>\n",
       "      <td>222</td>\n",
       "    </tr>\n",
       "    <tr>\n",
       "      <th>4</th>\n",
       "      <td>1</td>\n",
       "      <td>2008-04-18</td>\n",
       "      <td>M Chinnaswamy Stadium</td>\n",
       "      <td>Kolkata Knight Riders</td>\n",
       "      <td>Royal Challengers Bangalore</td>\n",
       "      <td>BB McCullum</td>\n",
       "      <td>P Kumar</td>\n",
       "      <td>2</td>\n",
       "      <td>0</td>\n",
       "      <td>0.4</td>\n",
       "      <td>2</td>\n",
       "      <td>0</td>\n",
       "      <td>0</td>\n",
       "      <td>0</td>\n",
       "      <td>222</td>\n",
       "    </tr>\n",
       "    <tr>\n",
       "      <th>5</th>\n",
       "      <td>1</td>\n",
       "      <td>2008-04-18</td>\n",
       "      <td>M Chinnaswamy Stadium</td>\n",
       "      <td>Kolkata Knight Riders</td>\n",
       "      <td>Royal Challengers Bangalore</td>\n",
       "      <td>BB McCullum</td>\n",
       "      <td>P Kumar</td>\n",
       "      <td>2</td>\n",
       "      <td>0</td>\n",
       "      <td>0.5</td>\n",
       "      <td>2</td>\n",
       "      <td>0</td>\n",
       "      <td>0</td>\n",
       "      <td>0</td>\n",
       "      <td>222</td>\n",
       "    </tr>\n",
       "    <tr>\n",
       "      <th>6</th>\n",
       "      <td>1</td>\n",
       "      <td>2008-04-18</td>\n",
       "      <td>M Chinnaswamy Stadium</td>\n",
       "      <td>Kolkata Knight Riders</td>\n",
       "      <td>Royal Challengers Bangalore</td>\n",
       "      <td>BB McCullum</td>\n",
       "      <td>P Kumar</td>\n",
       "      <td>3</td>\n",
       "      <td>0</td>\n",
       "      <td>0.6</td>\n",
       "      <td>3</td>\n",
       "      <td>0</td>\n",
       "      <td>0</td>\n",
       "      <td>0</td>\n",
       "      <td>222</td>\n",
       "    </tr>\n",
       "    <tr>\n",
       "      <th>7</th>\n",
       "      <td>1</td>\n",
       "      <td>2008-04-18</td>\n",
       "      <td>M Chinnaswamy Stadium</td>\n",
       "      <td>Kolkata Knight Riders</td>\n",
       "      <td>Royal Challengers Bangalore</td>\n",
       "      <td>BB McCullum</td>\n",
       "      <td>Z Khan</td>\n",
       "      <td>3</td>\n",
       "      <td>0</td>\n",
       "      <td>1.1</td>\n",
       "      <td>3</td>\n",
       "      <td>0</td>\n",
       "      <td>0</td>\n",
       "      <td>0</td>\n",
       "      <td>222</td>\n",
       "    </tr>\n",
       "    <tr>\n",
       "      <th>8</th>\n",
       "      <td>1</td>\n",
       "      <td>2008-04-18</td>\n",
       "      <td>M Chinnaswamy Stadium</td>\n",
       "      <td>Kolkata Knight Riders</td>\n",
       "      <td>Royal Challengers Bangalore</td>\n",
       "      <td>BB McCullum</td>\n",
       "      <td>Z Khan</td>\n",
       "      <td>7</td>\n",
       "      <td>0</td>\n",
       "      <td>1.2</td>\n",
       "      <td>7</td>\n",
       "      <td>0</td>\n",
       "      <td>4</td>\n",
       "      <td>0</td>\n",
       "      <td>222</td>\n",
       "    </tr>\n",
       "    <tr>\n",
       "      <th>9</th>\n",
       "      <td>1</td>\n",
       "      <td>2008-04-18</td>\n",
       "      <td>M Chinnaswamy Stadium</td>\n",
       "      <td>Kolkata Knight Riders</td>\n",
       "      <td>Royal Challengers Bangalore</td>\n",
       "      <td>BB McCullum</td>\n",
       "      <td>Z Khan</td>\n",
       "      <td>11</td>\n",
       "      <td>0</td>\n",
       "      <td>1.3</td>\n",
       "      <td>11</td>\n",
       "      <td>0</td>\n",
       "      <td>8</td>\n",
       "      <td>0</td>\n",
       "      <td>222</td>\n",
       "    </tr>\n",
       "  </tbody>\n",
       "</table>\n",
       "</div>"
      ],
      "text/plain": [
       "   mid        date                  venue  ... striker non-striker total\n",
       "0    1  2008-04-18  M Chinnaswamy Stadium  ...       0           0   222\n",
       "1    1  2008-04-18  M Chinnaswamy Stadium  ...       0           0   222\n",
       "2    1  2008-04-18  M Chinnaswamy Stadium  ...       0           0   222\n",
       "3    1  2008-04-18  M Chinnaswamy Stadium  ...       0           0   222\n",
       "4    1  2008-04-18  M Chinnaswamy Stadium  ...       0           0   222\n",
       "5    1  2008-04-18  M Chinnaswamy Stadium  ...       0           0   222\n",
       "6    1  2008-04-18  M Chinnaswamy Stadium  ...       0           0   222\n",
       "7    1  2008-04-18  M Chinnaswamy Stadium  ...       0           0   222\n",
       "8    1  2008-04-18  M Chinnaswamy Stadium  ...       4           0   222\n",
       "9    1  2008-04-18  M Chinnaswamy Stadium  ...       8           0   222\n",
       "\n",
       "[10 rows x 15 columns]"
      ]
     },
     "execution_count": 51,
     "metadata": {
      "tags": []
     },
     "output_type": "execute_result"
    }
   ],
   "source": [
    "df.head(10)"
   ]
  },
  {
   "cell_type": "code",
   "execution_count": null,
   "metadata": {
    "colab": {
     "base_uri": "https://localhost:8080/",
     "height": 84
    },
    "colab_type": "code",
    "executionInfo": {
     "elapsed": 4148,
     "status": "ok",
     "timestamp": 1594348876923,
     "user": {
      "displayName": "anirban nayek",
      "photoUrl": "https://lh3.googleusercontent.com/a-/AOh14GhXCTdgvlsaGvJwJY3vKdhp56QTTtCdyHO7wY0vxg=s64",
      "userId": "01629633000911080543"
     },
     "user_tz": -330
    },
    "id": "QBC6eNsyRL21",
    "outputId": "7fc295f9-fa19-4679-e69e-7cef0cf7ef84"
   },
   "outputs": [
    {
     "data": {
      "text/plain": [
       "Index(['mid', 'date', 'venue', 'bat_team', 'bowl_team', 'batsman', 'bowler',\n",
       "       'runs', 'wickets', 'overs', 'runs_last_5', 'wickets_last_5', 'striker',\n",
       "       'non-striker', 'total'],\n",
       "      dtype='object')"
      ]
     },
     "execution_count": 52,
     "metadata": {
      "tags": []
     },
     "output_type": "execute_result"
    }
   ],
   "source": [
    "df.columns"
   ]
  },
  {
   "cell_type": "markdown",
   "metadata": {
    "colab_type": "text",
    "id": "znS21clwxKzQ"
   },
   "source": [
    "## remove unwanted columns"
   ]
  },
  {
   "cell_type": "code",
   "execution_count": null,
   "metadata": {
    "colab": {},
    "colab_type": "code",
    "id": "CtvRap3DSlO7"
   },
   "outputs": [],
   "source": [
    "unwanted_columns = ['mid',  'batsman', 'bowler', 'striker','non-striker']\n",
    "df = df.drop(labels=unwanted_columns,axis =1,)"
   ]
  },
  {
   "cell_type": "code",
   "execution_count": null,
   "metadata": {
    "colab": {
     "base_uri": "https://localhost:8080/",
     "height": 383
    },
    "colab_type": "code",
    "executionInfo": {
     "elapsed": 3749,
     "status": "ok",
     "timestamp": 1594348876925,
     "user": {
      "displayName": "anirban nayek",
      "photoUrl": "https://lh3.googleusercontent.com/a-/AOh14GhXCTdgvlsaGvJwJY3vKdhp56QTTtCdyHO7wY0vxg=s64",
      "userId": "01629633000911080543"
     },
     "user_tz": -330
    },
    "id": "UnTBsp6PibTt",
    "outputId": "998c00db-bbf3-42c2-ea40-6527dfd06fa6"
   },
   "outputs": [
    {
     "data": {
      "text/html": [
       "<div>\n",
       "<style scoped>\n",
       "    .dataframe tbody tr th:only-of-type {\n",
       "        vertical-align: middle;\n",
       "    }\n",
       "\n",
       "    .dataframe tbody tr th {\n",
       "        vertical-align: top;\n",
       "    }\n",
       "\n",
       "    .dataframe thead th {\n",
       "        text-align: right;\n",
       "    }\n",
       "</style>\n",
       "<table border=\"1\" class=\"dataframe\">\n",
       "  <thead>\n",
       "    <tr style=\"text-align: right;\">\n",
       "      <th></th>\n",
       "      <th>date</th>\n",
       "      <th>venue</th>\n",
       "      <th>bat_team</th>\n",
       "      <th>bowl_team</th>\n",
       "      <th>runs</th>\n",
       "      <th>wickets</th>\n",
       "      <th>overs</th>\n",
       "      <th>runs_last_5</th>\n",
       "      <th>wickets_last_5</th>\n",
       "      <th>total</th>\n",
       "    </tr>\n",
       "  </thead>\n",
       "  <tbody>\n",
       "    <tr>\n",
       "      <th>0</th>\n",
       "      <td>2008-04-18</td>\n",
       "      <td>M Chinnaswamy Stadium</td>\n",
       "      <td>Kolkata Knight Riders</td>\n",
       "      <td>Royal Challengers Bangalore</td>\n",
       "      <td>1</td>\n",
       "      <td>0</td>\n",
       "      <td>0.1</td>\n",
       "      <td>1</td>\n",
       "      <td>0</td>\n",
       "      <td>222</td>\n",
       "    </tr>\n",
       "    <tr>\n",
       "      <th>1</th>\n",
       "      <td>2008-04-18</td>\n",
       "      <td>M Chinnaswamy Stadium</td>\n",
       "      <td>Kolkata Knight Riders</td>\n",
       "      <td>Royal Challengers Bangalore</td>\n",
       "      <td>1</td>\n",
       "      <td>0</td>\n",
       "      <td>0.2</td>\n",
       "      <td>1</td>\n",
       "      <td>0</td>\n",
       "      <td>222</td>\n",
       "    </tr>\n",
       "    <tr>\n",
       "      <th>2</th>\n",
       "      <td>2008-04-18</td>\n",
       "      <td>M Chinnaswamy Stadium</td>\n",
       "      <td>Kolkata Knight Riders</td>\n",
       "      <td>Royal Challengers Bangalore</td>\n",
       "      <td>2</td>\n",
       "      <td>0</td>\n",
       "      <td>0.2</td>\n",
       "      <td>2</td>\n",
       "      <td>0</td>\n",
       "      <td>222</td>\n",
       "    </tr>\n",
       "    <tr>\n",
       "      <th>3</th>\n",
       "      <td>2008-04-18</td>\n",
       "      <td>M Chinnaswamy Stadium</td>\n",
       "      <td>Kolkata Knight Riders</td>\n",
       "      <td>Royal Challengers Bangalore</td>\n",
       "      <td>2</td>\n",
       "      <td>0</td>\n",
       "      <td>0.3</td>\n",
       "      <td>2</td>\n",
       "      <td>0</td>\n",
       "      <td>222</td>\n",
       "    </tr>\n",
       "    <tr>\n",
       "      <th>4</th>\n",
       "      <td>2008-04-18</td>\n",
       "      <td>M Chinnaswamy Stadium</td>\n",
       "      <td>Kolkata Knight Riders</td>\n",
       "      <td>Royal Challengers Bangalore</td>\n",
       "      <td>2</td>\n",
       "      <td>0</td>\n",
       "      <td>0.4</td>\n",
       "      <td>2</td>\n",
       "      <td>0</td>\n",
       "      <td>222</td>\n",
       "    </tr>\n",
       "  </tbody>\n",
       "</table>\n",
       "</div>"
      ],
      "text/plain": [
       "         date                  venue  ... wickets_last_5 total\n",
       "0  2008-04-18  M Chinnaswamy Stadium  ...              0   222\n",
       "1  2008-04-18  M Chinnaswamy Stadium  ...              0   222\n",
       "2  2008-04-18  M Chinnaswamy Stadium  ...              0   222\n",
       "3  2008-04-18  M Chinnaswamy Stadium  ...              0   222\n",
       "4  2008-04-18  M Chinnaswamy Stadium  ...              0   222\n",
       "\n",
       "[5 rows x 10 columns]"
      ]
     },
     "execution_count": 54,
     "metadata": {
      "tags": []
     },
     "output_type": "execute_result"
    }
   ],
   "source": [
    "df.head()"
   ]
  },
  {
   "cell_type": "code",
   "execution_count": null,
   "metadata": {
    "colab": {
     "base_uri": "https://localhost:8080/",
     "height": 67
    },
    "colab_type": "code",
    "executionInfo": {
     "elapsed": 3547,
     "status": "ok",
     "timestamp": 1594348876925,
     "user": {
      "displayName": "anirban nayek",
      "photoUrl": "https://lh3.googleusercontent.com/a-/AOh14GhXCTdgvlsaGvJwJY3vKdhp56QTTtCdyHO7wY0vxg=s64",
      "userId": "01629633000911080543"
     },
     "user_tz": -330
    },
    "id": "rRveIcq4ileW",
    "outputId": "508b0edf-5397-4cae-df02-821b27790ef6"
   },
   "outputs": [
    {
     "data": {
      "text/plain": [
       "Index(['date', 'venue', 'bat_team', 'bowl_team', 'runs', 'wickets', 'overs',\n",
       "       'runs_last_5', 'wickets_last_5', 'total'],\n",
       "      dtype='object')"
      ]
     },
     "execution_count": 55,
     "metadata": {
      "tags": []
     },
     "output_type": "execute_result"
    }
   ],
   "source": [
    "df.columns"
   ]
  },
  {
   "cell_type": "code",
   "execution_count": null,
   "metadata": {
    "colab": {
     "base_uri": "https://localhost:8080/",
     "height": 118
    },
    "colab_type": "code",
    "executionInfo": {
     "elapsed": 3349,
     "status": "ok",
     "timestamp": 1594348876926,
     "user": {
      "displayName": "anirban nayek",
      "photoUrl": "https://lh3.googleusercontent.com/a-/AOh14GhXCTdgvlsaGvJwJY3vKdhp56QTTtCdyHO7wY0vxg=s64",
      "userId": "01629633000911080543"
     },
     "user_tz": -330
    },
    "id": "sbpIiY0qioSi",
    "outputId": "d6f877b6-1714-4f89-8521-17f9a1177e15"
   },
   "outputs": [
    {
     "data": {
      "text/plain": [
       "array(['Kolkata Knight Riders', 'Chennai Super Kings', 'Rajasthan Royals',\n",
       "       'Mumbai Indians', 'Deccan Chargers', 'Kings XI Punjab',\n",
       "       'Royal Challengers Bangalore', 'Delhi Daredevils',\n",
       "       'Kochi Tuskers Kerala', 'Pune Warriors', 'Sunrisers Hyderabad',\n",
       "       'Rising Pune Supergiants', 'Gujarat Lions',\n",
       "       'Rising Pune Supergiant'], dtype=object)"
      ]
     },
     "execution_count": 56,
     "metadata": {
      "tags": []
     },
     "output_type": "execute_result"
    }
   ],
   "source": [
    "df['bat_team'].unique()"
   ]
  },
  {
   "cell_type": "code",
   "execution_count": null,
   "metadata": {
    "colab": {},
    "colab_type": "code",
    "id": "t9QMCxUTi3xT"
   },
   "outputs": [],
   "source": [
    "current_team = ['Kolkata Knight Riders', 'Chennai Super Kings', 'Rajasthan Royals',\n",
    "       'Mumbai Indians', 'Kings XI Punjab','Royal Challengers Bangalore', \n",
    "       'Delhi Daredevils', 'Sunrisers Hyderabad',]"
   ]
  },
  {
   "cell_type": "markdown",
   "metadata": {
    "colab_type": "text",
    "id": "Qle5dqb7xUXq"
   },
   "source": [
    "## select current playing team"
   ]
  },
  {
   "cell_type": "code",
   "execution_count": null,
   "metadata": {
    "colab": {},
    "colab_type": "code",
    "id": "hbzbwx9YjOrC"
   },
   "outputs": [],
   "source": [
    "df =df[df['bat_team'].isin(current_team) & df['bowl_team'].isin(current_team)]"
   ]
  },
  {
   "cell_type": "code",
   "execution_count": null,
   "metadata": {
    "colab": {
     "base_uri": "https://localhost:8080/",
     "height": 67
    },
    "colab_type": "code",
    "executionInfo": {
     "elapsed": 2656,
     "status": "ok",
     "timestamp": 1594348876928,
     "user": {
      "displayName": "anirban nayek",
      "photoUrl": "https://lh3.googleusercontent.com/a-/AOh14GhXCTdgvlsaGvJwJY3vKdhp56QTTtCdyHO7wY0vxg=s64",
      "userId": "01629633000911080543"
     },
     "user_tz": -330
    },
    "id": "0MlHCc9jjmME",
    "outputId": "636d8588-dbd7-41cf-ed0c-28cfc638e731"
   },
   "outputs": [
    {
     "data": {
      "text/plain": [
       "array(['Kolkata Knight Riders', 'Chennai Super Kings', 'Rajasthan Royals',\n",
       "       'Mumbai Indians', 'Kings XI Punjab', 'Royal Challengers Bangalore',\n",
       "       'Delhi Daredevils', 'Sunrisers Hyderabad'], dtype=object)"
      ]
     },
     "execution_count": 59,
     "metadata": {
      "tags": []
     },
     "output_type": "execute_result"
    }
   ],
   "source": [
    "df['bat_team'].unique()"
   ]
  },
  {
   "cell_type": "markdown",
   "metadata": {
    "colab_type": "text",
    "id": "UjS74UCxxfko"
   },
   "source": [
    "## remove 1-5 over data"
   ]
  },
  {
   "cell_type": "code",
   "execution_count": null,
   "metadata": {
    "colab": {},
    "colab_type": "code",
    "id": "Ut8haAdbkgGx"
   },
   "outputs": [],
   "source": [
    "df = df[df['overs'] >=5.0]"
   ]
  },
  {
   "cell_type": "code",
   "execution_count": null,
   "metadata": {
    "colab": {
     "base_uri": "https://localhost:8080/",
     "height": 383
    },
    "colab_type": "code",
    "executionInfo": {
     "elapsed": 2263,
     "status": "ok",
     "timestamp": 1594348876929,
     "user": {
      "displayName": "anirban nayek",
      "photoUrl": "https://lh3.googleusercontent.com/a-/AOh14GhXCTdgvlsaGvJwJY3vKdhp56QTTtCdyHO7wY0vxg=s64",
      "userId": "01629633000911080543"
     },
     "user_tz": -330
    },
    "id": "CP5D9loSk2hX",
    "outputId": "cebc6d5e-ccc4-4709-a079-4185e91cb265"
   },
   "outputs": [
    {
     "data": {
      "text/html": [
       "<div>\n",
       "<style scoped>\n",
       "    .dataframe tbody tr th:only-of-type {\n",
       "        vertical-align: middle;\n",
       "    }\n",
       "\n",
       "    .dataframe tbody tr th {\n",
       "        vertical-align: top;\n",
       "    }\n",
       "\n",
       "    .dataframe thead th {\n",
       "        text-align: right;\n",
       "    }\n",
       "</style>\n",
       "<table border=\"1\" class=\"dataframe\">\n",
       "  <thead>\n",
       "    <tr style=\"text-align: right;\">\n",
       "      <th></th>\n",
       "      <th>date</th>\n",
       "      <th>venue</th>\n",
       "      <th>bat_team</th>\n",
       "      <th>bowl_team</th>\n",
       "      <th>runs</th>\n",
       "      <th>wickets</th>\n",
       "      <th>overs</th>\n",
       "      <th>runs_last_5</th>\n",
       "      <th>wickets_last_5</th>\n",
       "      <th>total</th>\n",
       "    </tr>\n",
       "  </thead>\n",
       "  <tbody>\n",
       "    <tr>\n",
       "      <th>32</th>\n",
       "      <td>2008-04-18</td>\n",
       "      <td>M Chinnaswamy Stadium</td>\n",
       "      <td>Kolkata Knight Riders</td>\n",
       "      <td>Royal Challengers Bangalore</td>\n",
       "      <td>61</td>\n",
       "      <td>0</td>\n",
       "      <td>5.1</td>\n",
       "      <td>59</td>\n",
       "      <td>0</td>\n",
       "      <td>222</td>\n",
       "    </tr>\n",
       "    <tr>\n",
       "      <th>33</th>\n",
       "      <td>2008-04-18</td>\n",
       "      <td>M Chinnaswamy Stadium</td>\n",
       "      <td>Kolkata Knight Riders</td>\n",
       "      <td>Royal Challengers Bangalore</td>\n",
       "      <td>61</td>\n",
       "      <td>1</td>\n",
       "      <td>5.2</td>\n",
       "      <td>59</td>\n",
       "      <td>1</td>\n",
       "      <td>222</td>\n",
       "    </tr>\n",
       "    <tr>\n",
       "      <th>34</th>\n",
       "      <td>2008-04-18</td>\n",
       "      <td>M Chinnaswamy Stadium</td>\n",
       "      <td>Kolkata Knight Riders</td>\n",
       "      <td>Royal Challengers Bangalore</td>\n",
       "      <td>61</td>\n",
       "      <td>1</td>\n",
       "      <td>5.3</td>\n",
       "      <td>59</td>\n",
       "      <td>1</td>\n",
       "      <td>222</td>\n",
       "    </tr>\n",
       "    <tr>\n",
       "      <th>35</th>\n",
       "      <td>2008-04-18</td>\n",
       "      <td>M Chinnaswamy Stadium</td>\n",
       "      <td>Kolkata Knight Riders</td>\n",
       "      <td>Royal Challengers Bangalore</td>\n",
       "      <td>61</td>\n",
       "      <td>1</td>\n",
       "      <td>5.4</td>\n",
       "      <td>59</td>\n",
       "      <td>1</td>\n",
       "      <td>222</td>\n",
       "    </tr>\n",
       "    <tr>\n",
       "      <th>36</th>\n",
       "      <td>2008-04-18</td>\n",
       "      <td>M Chinnaswamy Stadium</td>\n",
       "      <td>Kolkata Knight Riders</td>\n",
       "      <td>Royal Challengers Bangalore</td>\n",
       "      <td>61</td>\n",
       "      <td>1</td>\n",
       "      <td>5.5</td>\n",
       "      <td>58</td>\n",
       "      <td>1</td>\n",
       "      <td>222</td>\n",
       "    </tr>\n",
       "  </tbody>\n",
       "</table>\n",
       "</div>"
      ],
      "text/plain": [
       "          date                  venue  ... wickets_last_5 total\n",
       "32  2008-04-18  M Chinnaswamy Stadium  ...              0   222\n",
       "33  2008-04-18  M Chinnaswamy Stadium  ...              1   222\n",
       "34  2008-04-18  M Chinnaswamy Stadium  ...              1   222\n",
       "35  2008-04-18  M Chinnaswamy Stadium  ...              1   222\n",
       "36  2008-04-18  M Chinnaswamy Stadium  ...              1   222\n",
       "\n",
       "[5 rows x 10 columns]"
      ]
     },
     "execution_count": 61,
     "metadata": {
      "tags": []
     },
     "output_type": "execute_result"
    }
   ],
   "source": [
    "df.head()"
   ]
  },
  {
   "cell_type": "markdown",
   "metadata": {
    "colab_type": "text",
    "id": "1IX8IPquxuaq"
   },
   "source": [
    "## for train test split convert date to dat,time format"
   ]
  },
  {
   "cell_type": "code",
   "execution_count": null,
   "metadata": {
    "colab": {},
    "colab_type": "code",
    "id": "k_7MILi1jsBX"
   },
   "outputs": [],
   "source": [
    "from datetime import datetime\n",
    "df['date'] = df['date'].apply(lambda x: datetime.strptime(x,'%Y-%m-%d'))"
   ]
  },
  {
   "cell_type": "markdown",
   "metadata": {
    "colab_type": "text",
    "id": "wwTwZwvmx_VO"
   },
   "source": [
    "## for removing catagorical data use onehot encoding"
   ]
  },
  {
   "cell_type": "code",
   "execution_count": null,
   "metadata": {
    "colab": {},
    "colab_type": "code",
    "id": "iJ1tLah4leqk"
   },
   "outputs": [],
   "source": [
    "encoded_df = pd.get_dummies(data=df,columns=['venue','bat_team','bowl_team'])"
   ]
  },
  {
   "cell_type": "code",
   "execution_count": null,
   "metadata": {
    "colab": {
     "base_uri": "https://localhost:8080/",
     "height": 400
    },
    "colab_type": "code",
    "executionInfo": {
     "elapsed": 2942,
     "status": "ok",
     "timestamp": 1594348878478,
     "user": {
      "displayName": "anirban nayek",
      "photoUrl": "https://lh3.googleusercontent.com/a-/AOh14GhXCTdgvlsaGvJwJY3vKdhp56QTTtCdyHO7wY0vxg=s64",
      "userId": "01629633000911080543"
     },
     "user_tz": -330
    },
    "id": "F1ue6a9NmezW",
    "outputId": "8c50845d-6fbc-4ab3-f5be-41fb00073175"
   },
   "outputs": [
    {
     "data": {
      "text/html": [
       "<div>\n",
       "<style scoped>\n",
       "    .dataframe tbody tr th:only-of-type {\n",
       "        vertical-align: middle;\n",
       "    }\n",
       "\n",
       "    .dataframe tbody tr th {\n",
       "        vertical-align: top;\n",
       "    }\n",
       "\n",
       "    .dataframe thead th {\n",
       "        text-align: right;\n",
       "    }\n",
       "</style>\n",
       "<table border=\"1\" class=\"dataframe\">\n",
       "  <thead>\n",
       "    <tr style=\"text-align: right;\">\n",
       "      <th></th>\n",
       "      <th>date</th>\n",
       "      <th>runs</th>\n",
       "      <th>wickets</th>\n",
       "      <th>overs</th>\n",
       "      <th>runs_last_5</th>\n",
       "      <th>wickets_last_5</th>\n",
       "      <th>total</th>\n",
       "      <th>venue_Barabati Stadium</th>\n",
       "      <th>venue_Brabourne Stadium</th>\n",
       "      <th>venue_Buffalo Park</th>\n",
       "      <th>venue_De Beers Diamond Oval</th>\n",
       "      <th>venue_Dr DY Patil Sports Academy</th>\n",
       "      <th>venue_Dr. Y.S. Rajasekhara Reddy ACA-VDCA Cricket Stadium</th>\n",
       "      <th>venue_Dubai International Cricket Stadium</th>\n",
       "      <th>venue_Eden Gardens</th>\n",
       "      <th>venue_Feroz Shah Kotla</th>\n",
       "      <th>venue_Himachal Pradesh Cricket Association Stadium</th>\n",
       "      <th>venue_Holkar Cricket Stadium</th>\n",
       "      <th>venue_JSCA International Stadium Complex</th>\n",
       "      <th>venue_Kingsmead</th>\n",
       "      <th>venue_M Chinnaswamy Stadium</th>\n",
       "      <th>venue_MA Chidambaram Stadium, Chepauk</th>\n",
       "      <th>venue_Maharashtra Cricket Association Stadium</th>\n",
       "      <th>venue_New Wanderers Stadium</th>\n",
       "      <th>venue_Newlands</th>\n",
       "      <th>venue_OUTsurance Oval</th>\n",
       "      <th>venue_Punjab Cricket Association IS Bindra Stadium, Mohali</th>\n",
       "      <th>venue_Punjab Cricket Association Stadium, Mohali</th>\n",
       "      <th>venue_Rajiv Gandhi International Stadium, Uppal</th>\n",
       "      <th>venue_Sardar Patel Stadium, Motera</th>\n",
       "      <th>venue_Sawai Mansingh Stadium</th>\n",
       "      <th>venue_Shaheed Veer Narayan Singh International Stadium</th>\n",
       "      <th>venue_Sharjah Cricket Stadium</th>\n",
       "      <th>venue_Sheikh Zayed Stadium</th>\n",
       "      <th>venue_St George's Park</th>\n",
       "      <th>venue_Subrata Roy Sahara Stadium</th>\n",
       "      <th>venue_SuperSport Park</th>\n",
       "      <th>venue_Wankhede Stadium</th>\n",
       "      <th>bat_team_Chennai Super Kings</th>\n",
       "      <th>bat_team_Delhi Daredevils</th>\n",
       "      <th>bat_team_Kings XI Punjab</th>\n",
       "      <th>bat_team_Kolkata Knight Riders</th>\n",
       "      <th>bat_team_Mumbai Indians</th>\n",
       "      <th>bat_team_Rajasthan Royals</th>\n",
       "      <th>bat_team_Royal Challengers Bangalore</th>\n",
       "      <th>bat_team_Sunrisers Hyderabad</th>\n",
       "      <th>bowl_team_Chennai Super Kings</th>\n",
       "      <th>bowl_team_Delhi Daredevils</th>\n",
       "      <th>bowl_team_Kings XI Punjab</th>\n",
       "      <th>bowl_team_Kolkata Knight Riders</th>\n",
       "      <th>bowl_team_Mumbai Indians</th>\n",
       "      <th>bowl_team_Rajasthan Royals</th>\n",
       "      <th>bowl_team_Royal Challengers Bangalore</th>\n",
       "      <th>bowl_team_Sunrisers Hyderabad</th>\n",
       "    </tr>\n",
       "  </thead>\n",
       "  <tbody>\n",
       "    <tr>\n",
       "      <th>32</th>\n",
       "      <td>2008-04-18</td>\n",
       "      <td>61</td>\n",
       "      <td>0</td>\n",
       "      <td>5.1</td>\n",
       "      <td>59</td>\n",
       "      <td>0</td>\n",
       "      <td>222</td>\n",
       "      <td>0</td>\n",
       "      <td>0</td>\n",
       "      <td>0</td>\n",
       "      <td>0</td>\n",
       "      <td>0</td>\n",
       "      <td>0</td>\n",
       "      <td>0</td>\n",
       "      <td>0</td>\n",
       "      <td>0</td>\n",
       "      <td>0</td>\n",
       "      <td>0</td>\n",
       "      <td>0</td>\n",
       "      <td>0</td>\n",
       "      <td>1</td>\n",
       "      <td>0</td>\n",
       "      <td>0</td>\n",
       "      <td>0</td>\n",
       "      <td>0</td>\n",
       "      <td>0</td>\n",
       "      <td>0</td>\n",
       "      <td>0</td>\n",
       "      <td>0</td>\n",
       "      <td>0</td>\n",
       "      <td>0</td>\n",
       "      <td>0</td>\n",
       "      <td>0</td>\n",
       "      <td>0</td>\n",
       "      <td>0</td>\n",
       "      <td>0</td>\n",
       "      <td>0</td>\n",
       "      <td>0</td>\n",
       "      <td>0</td>\n",
       "      <td>0</td>\n",
       "      <td>0</td>\n",
       "      <td>1</td>\n",
       "      <td>0</td>\n",
       "      <td>0</td>\n",
       "      <td>0</td>\n",
       "      <td>0</td>\n",
       "      <td>0</td>\n",
       "      <td>0</td>\n",
       "      <td>0</td>\n",
       "      <td>0</td>\n",
       "      <td>0</td>\n",
       "      <td>0</td>\n",
       "      <td>1</td>\n",
       "      <td>0</td>\n",
       "    </tr>\n",
       "    <tr>\n",
       "      <th>33</th>\n",
       "      <td>2008-04-18</td>\n",
       "      <td>61</td>\n",
       "      <td>1</td>\n",
       "      <td>5.2</td>\n",
       "      <td>59</td>\n",
       "      <td>1</td>\n",
       "      <td>222</td>\n",
       "      <td>0</td>\n",
       "      <td>0</td>\n",
       "      <td>0</td>\n",
       "      <td>0</td>\n",
       "      <td>0</td>\n",
       "      <td>0</td>\n",
       "      <td>0</td>\n",
       "      <td>0</td>\n",
       "      <td>0</td>\n",
       "      <td>0</td>\n",
       "      <td>0</td>\n",
       "      <td>0</td>\n",
       "      <td>0</td>\n",
       "      <td>1</td>\n",
       "      <td>0</td>\n",
       "      <td>0</td>\n",
       "      <td>0</td>\n",
       "      <td>0</td>\n",
       "      <td>0</td>\n",
       "      <td>0</td>\n",
       "      <td>0</td>\n",
       "      <td>0</td>\n",
       "      <td>0</td>\n",
       "      <td>0</td>\n",
       "      <td>0</td>\n",
       "      <td>0</td>\n",
       "      <td>0</td>\n",
       "      <td>0</td>\n",
       "      <td>0</td>\n",
       "      <td>0</td>\n",
       "      <td>0</td>\n",
       "      <td>0</td>\n",
       "      <td>0</td>\n",
       "      <td>0</td>\n",
       "      <td>1</td>\n",
       "      <td>0</td>\n",
       "      <td>0</td>\n",
       "      <td>0</td>\n",
       "      <td>0</td>\n",
       "      <td>0</td>\n",
       "      <td>0</td>\n",
       "      <td>0</td>\n",
       "      <td>0</td>\n",
       "      <td>0</td>\n",
       "      <td>0</td>\n",
       "      <td>1</td>\n",
       "      <td>0</td>\n",
       "    </tr>\n",
       "    <tr>\n",
       "      <th>34</th>\n",
       "      <td>2008-04-18</td>\n",
       "      <td>61</td>\n",
       "      <td>1</td>\n",
       "      <td>5.3</td>\n",
       "      <td>59</td>\n",
       "      <td>1</td>\n",
       "      <td>222</td>\n",
       "      <td>0</td>\n",
       "      <td>0</td>\n",
       "      <td>0</td>\n",
       "      <td>0</td>\n",
       "      <td>0</td>\n",
       "      <td>0</td>\n",
       "      <td>0</td>\n",
       "      <td>0</td>\n",
       "      <td>0</td>\n",
       "      <td>0</td>\n",
       "      <td>0</td>\n",
       "      <td>0</td>\n",
       "      <td>0</td>\n",
       "      <td>1</td>\n",
       "      <td>0</td>\n",
       "      <td>0</td>\n",
       "      <td>0</td>\n",
       "      <td>0</td>\n",
       "      <td>0</td>\n",
       "      <td>0</td>\n",
       "      <td>0</td>\n",
       "      <td>0</td>\n",
       "      <td>0</td>\n",
       "      <td>0</td>\n",
       "      <td>0</td>\n",
       "      <td>0</td>\n",
       "      <td>0</td>\n",
       "      <td>0</td>\n",
       "      <td>0</td>\n",
       "      <td>0</td>\n",
       "      <td>0</td>\n",
       "      <td>0</td>\n",
       "      <td>0</td>\n",
       "      <td>0</td>\n",
       "      <td>1</td>\n",
       "      <td>0</td>\n",
       "      <td>0</td>\n",
       "      <td>0</td>\n",
       "      <td>0</td>\n",
       "      <td>0</td>\n",
       "      <td>0</td>\n",
       "      <td>0</td>\n",
       "      <td>0</td>\n",
       "      <td>0</td>\n",
       "      <td>0</td>\n",
       "      <td>1</td>\n",
       "      <td>0</td>\n",
       "    </tr>\n",
       "    <tr>\n",
       "      <th>35</th>\n",
       "      <td>2008-04-18</td>\n",
       "      <td>61</td>\n",
       "      <td>1</td>\n",
       "      <td>5.4</td>\n",
       "      <td>59</td>\n",
       "      <td>1</td>\n",
       "      <td>222</td>\n",
       "      <td>0</td>\n",
       "      <td>0</td>\n",
       "      <td>0</td>\n",
       "      <td>0</td>\n",
       "      <td>0</td>\n",
       "      <td>0</td>\n",
       "      <td>0</td>\n",
       "      <td>0</td>\n",
       "      <td>0</td>\n",
       "      <td>0</td>\n",
       "      <td>0</td>\n",
       "      <td>0</td>\n",
       "      <td>0</td>\n",
       "      <td>1</td>\n",
       "      <td>0</td>\n",
       "      <td>0</td>\n",
       "      <td>0</td>\n",
       "      <td>0</td>\n",
       "      <td>0</td>\n",
       "      <td>0</td>\n",
       "      <td>0</td>\n",
       "      <td>0</td>\n",
       "      <td>0</td>\n",
       "      <td>0</td>\n",
       "      <td>0</td>\n",
       "      <td>0</td>\n",
       "      <td>0</td>\n",
       "      <td>0</td>\n",
       "      <td>0</td>\n",
       "      <td>0</td>\n",
       "      <td>0</td>\n",
       "      <td>0</td>\n",
       "      <td>0</td>\n",
       "      <td>0</td>\n",
       "      <td>1</td>\n",
       "      <td>0</td>\n",
       "      <td>0</td>\n",
       "      <td>0</td>\n",
       "      <td>0</td>\n",
       "      <td>0</td>\n",
       "      <td>0</td>\n",
       "      <td>0</td>\n",
       "      <td>0</td>\n",
       "      <td>0</td>\n",
       "      <td>0</td>\n",
       "      <td>1</td>\n",
       "      <td>0</td>\n",
       "    </tr>\n",
       "    <tr>\n",
       "      <th>36</th>\n",
       "      <td>2008-04-18</td>\n",
       "      <td>61</td>\n",
       "      <td>1</td>\n",
       "      <td>5.5</td>\n",
       "      <td>58</td>\n",
       "      <td>1</td>\n",
       "      <td>222</td>\n",
       "      <td>0</td>\n",
       "      <td>0</td>\n",
       "      <td>0</td>\n",
       "      <td>0</td>\n",
       "      <td>0</td>\n",
       "      <td>0</td>\n",
       "      <td>0</td>\n",
       "      <td>0</td>\n",
       "      <td>0</td>\n",
       "      <td>0</td>\n",
       "      <td>0</td>\n",
       "      <td>0</td>\n",
       "      <td>0</td>\n",
       "      <td>1</td>\n",
       "      <td>0</td>\n",
       "      <td>0</td>\n",
       "      <td>0</td>\n",
       "      <td>0</td>\n",
       "      <td>0</td>\n",
       "      <td>0</td>\n",
       "      <td>0</td>\n",
       "      <td>0</td>\n",
       "      <td>0</td>\n",
       "      <td>0</td>\n",
       "      <td>0</td>\n",
       "      <td>0</td>\n",
       "      <td>0</td>\n",
       "      <td>0</td>\n",
       "      <td>0</td>\n",
       "      <td>0</td>\n",
       "      <td>0</td>\n",
       "      <td>0</td>\n",
       "      <td>0</td>\n",
       "      <td>0</td>\n",
       "      <td>1</td>\n",
       "      <td>0</td>\n",
       "      <td>0</td>\n",
       "      <td>0</td>\n",
       "      <td>0</td>\n",
       "      <td>0</td>\n",
       "      <td>0</td>\n",
       "      <td>0</td>\n",
       "      <td>0</td>\n",
       "      <td>0</td>\n",
       "      <td>0</td>\n",
       "      <td>1</td>\n",
       "      <td>0</td>\n",
       "    </tr>\n",
       "  </tbody>\n",
       "</table>\n",
       "</div>"
      ],
      "text/plain": [
       "         date  ...  bowl_team_Sunrisers Hyderabad\n",
       "32 2008-04-18  ...                              0\n",
       "33 2008-04-18  ...                              0\n",
       "34 2008-04-18  ...                              0\n",
       "35 2008-04-18  ...                              0\n",
       "36 2008-04-18  ...                              0\n",
       "\n",
       "[5 rows x 54 columns]"
      ]
     },
     "execution_count": 64,
     "metadata": {
      "tags": []
     },
     "output_type": "execute_result"
    }
   ],
   "source": [
    "encoded_df.head()"
   ]
  },
  {
   "cell_type": "markdown",
   "metadata": {
    "colab_type": "text",
    "id": "C_GIeG33yRiI"
   },
   "source": [
    "## shift dependent veriable at last column"
   ]
  },
  {
   "cell_type": "code",
   "execution_count": null,
   "metadata": {
    "colab": {
     "base_uri": "https://localhost:8080/",
     "height": 554
    },
    "colab_type": "code",
    "executionInfo": {
     "elapsed": 2858,
     "status": "ok",
     "timestamp": 1594348878480,
     "user": {
      "displayName": "anirban nayek",
      "photoUrl": "https://lh3.googleusercontent.com/a-/AOh14GhXCTdgvlsaGvJwJY3vKdhp56QTTtCdyHO7wY0vxg=s64",
      "userId": "01629633000911080543"
     },
     "user_tz": -330
    },
    "id": "mYzrbE8NmiaU",
    "outputId": "066b8ae8-95be-402f-e76a-5c9311cc586d"
   },
   "outputs": [
    {
     "data": {
      "text/plain": [
       "Index(['date', 'runs', 'wickets', 'overs', 'runs_last_5', 'wickets_last_5',\n",
       "       'total', 'venue_Barabati Stadium', 'venue_Brabourne Stadium',\n",
       "       'venue_Buffalo Park', 'venue_De Beers Diamond Oval',\n",
       "       'venue_Dr DY Patil Sports Academy',\n",
       "       'venue_Dr. Y.S. Rajasekhara Reddy ACA-VDCA Cricket Stadium',\n",
       "       'venue_Dubai International Cricket Stadium', 'venue_Eden Gardens',\n",
       "       'venue_Feroz Shah Kotla',\n",
       "       'venue_Himachal Pradesh Cricket Association Stadium',\n",
       "       'venue_Holkar Cricket Stadium',\n",
       "       'venue_JSCA International Stadium Complex', 'venue_Kingsmead',\n",
       "       'venue_M Chinnaswamy Stadium', 'venue_MA Chidambaram Stadium, Chepauk',\n",
       "       'venue_Maharashtra Cricket Association Stadium',\n",
       "       'venue_New Wanderers Stadium', 'venue_Newlands',\n",
       "       'venue_OUTsurance Oval',\n",
       "       'venue_Punjab Cricket Association IS Bindra Stadium, Mohali',\n",
       "       'venue_Punjab Cricket Association Stadium, Mohali',\n",
       "       'venue_Rajiv Gandhi International Stadium, Uppal',\n",
       "       'venue_Sardar Patel Stadium, Motera', 'venue_Sawai Mansingh Stadium',\n",
       "       'venue_Shaheed Veer Narayan Singh International Stadium',\n",
       "       'venue_Sharjah Cricket Stadium', 'venue_Sheikh Zayed Stadium',\n",
       "       'venue_St George's Park', 'venue_Subrata Roy Sahara Stadium',\n",
       "       'venue_SuperSport Park', 'venue_Wankhede Stadium',\n",
       "       'bat_team_Chennai Super Kings', 'bat_team_Delhi Daredevils',\n",
       "       'bat_team_Kings XI Punjab', 'bat_team_Kolkata Knight Riders',\n",
       "       'bat_team_Mumbai Indians', 'bat_team_Rajasthan Royals',\n",
       "       'bat_team_Royal Challengers Bangalore', 'bat_team_Sunrisers Hyderabad',\n",
       "       'bowl_team_Chennai Super Kings', 'bowl_team_Delhi Daredevils',\n",
       "       'bowl_team_Kings XI Punjab', 'bowl_team_Kolkata Knight Riders',\n",
       "       'bowl_team_Mumbai Indians', 'bowl_team_Rajasthan Royals',\n",
       "       'bowl_team_Royal Challengers Bangalore',\n",
       "       'bowl_team_Sunrisers Hyderabad'],\n",
       "      dtype='object')"
      ]
     },
     "execution_count": 65,
     "metadata": {
      "tags": []
     },
     "output_type": "execute_result"
    }
   ],
   "source": [
    "encoded_df.columns"
   ]
  },
  {
   "cell_type": "code",
   "execution_count": null,
   "metadata": {
    "colab": {},
    "colab_type": "code",
    "id": "IxsMd2lwmtAN"
   },
   "outputs": [],
   "source": [
    "encoded_df = encoded_df[['date', 'runs', 'wickets', 'overs', 'runs_last_5', 'wickets_last_5',\n",
    "      'venue_Barabati Stadium', 'venue_Brabourne Stadium',\n",
    "       'venue_Buffalo Park', 'venue_De Beers Diamond Oval',\n",
    "       'venue_Dr DY Patil Sports Academy',\n",
    "       'venue_Dr. Y.S. Rajasekhara Reddy ACA-VDCA Cricket Stadium',\n",
    "       'venue_Dubai International Cricket Stadium', 'venue_Eden Gardens',\n",
    "       'venue_Feroz Shah Kotla',\n",
    "       'venue_Himachal Pradesh Cricket Association Stadium',\n",
    "       'venue_Holkar Cricket Stadium',\n",
    "       'venue_JSCA International Stadium Complex', 'venue_Kingsmead',\n",
    "       'venue_M Chinnaswamy Stadium', 'venue_MA Chidambaram Stadium, Chepauk',\n",
    "       'venue_Maharashtra Cricket Association Stadium',\n",
    "       'venue_New Wanderers Stadium', 'venue_Newlands',\n",
    "       'venue_OUTsurance Oval',\n",
    "       'venue_Punjab Cricket Association IS Bindra Stadium, Mohali',\n",
    "       'venue_Punjab Cricket Association Stadium, Mohali',\n",
    "       'venue_Rajiv Gandhi International Stadium, Uppal',\n",
    "       'venue_Sardar Patel Stadium, Motera', 'venue_Sawai Mansingh Stadium',\n",
    "       'venue_Shaheed Veer Narayan Singh International Stadium',\n",
    "       'venue_Sharjah Cricket Stadium', 'venue_Sheikh Zayed Stadium',\n",
    "       \"venue_St George's Park\", 'venue_Subrata Roy Sahara Stadium',\n",
    "       'venue_SuperSport Park', 'venue_Wankhede Stadium',\n",
    "       'bat_team_Chennai Super Kings', 'bat_team_Delhi Daredevils',\n",
    "       'bat_team_Kings XI Punjab', 'bat_team_Kolkata Knight Riders',\n",
    "       'bat_team_Mumbai Indians', 'bat_team_Rajasthan Royals',\n",
    "       'bat_team_Royal Challengers Bangalore', 'bat_team_Sunrisers Hyderabad',\n",
    "       'bowl_team_Chennai Super Kings', 'bowl_team_Delhi Daredevils',\n",
    "       'bowl_team_Kings XI Punjab', 'bowl_team_Kolkata Knight Riders',\n",
    "       'bowl_team_Mumbai Indians', 'bowl_team_Rajasthan Royals',\n",
    "       'bowl_team_Royal Challengers Bangalore',\n",
    "       'bowl_team_Sunrisers Hyderabad','total']]"
   ]
  },
  {
   "cell_type": "code",
   "execution_count": null,
   "metadata": {
    "colab": {
     "base_uri": "https://localhost:8080/",
     "height": 400
    },
    "colab_type": "code",
    "executionInfo": {
     "elapsed": 4513,
     "status": "ok",
     "timestamp": 1594348880307,
     "user": {
      "displayName": "anirban nayek",
      "photoUrl": "https://lh3.googleusercontent.com/a-/AOh14GhXCTdgvlsaGvJwJY3vKdhp56QTTtCdyHO7wY0vxg=s64",
      "userId": "01629633000911080543"
     },
     "user_tz": -330
    },
    "id": "h4asaTPkm76-",
    "outputId": "e521fe2e-4149-4bf4-c3e7-dc49bd12d9d0"
   },
   "outputs": [
    {
     "data": {
      "text/html": [
       "<div>\n",
       "<style scoped>\n",
       "    .dataframe tbody tr th:only-of-type {\n",
       "        vertical-align: middle;\n",
       "    }\n",
       "\n",
       "    .dataframe tbody tr th {\n",
       "        vertical-align: top;\n",
       "    }\n",
       "\n",
       "    .dataframe thead th {\n",
       "        text-align: right;\n",
       "    }\n",
       "</style>\n",
       "<table border=\"1\" class=\"dataframe\">\n",
       "  <thead>\n",
       "    <tr style=\"text-align: right;\">\n",
       "      <th></th>\n",
       "      <th>date</th>\n",
       "      <th>runs</th>\n",
       "      <th>wickets</th>\n",
       "      <th>overs</th>\n",
       "      <th>runs_last_5</th>\n",
       "      <th>wickets_last_5</th>\n",
       "      <th>venue_Barabati Stadium</th>\n",
       "      <th>venue_Brabourne Stadium</th>\n",
       "      <th>venue_Buffalo Park</th>\n",
       "      <th>venue_De Beers Diamond Oval</th>\n",
       "      <th>venue_Dr DY Patil Sports Academy</th>\n",
       "      <th>venue_Dr. Y.S. Rajasekhara Reddy ACA-VDCA Cricket Stadium</th>\n",
       "      <th>venue_Dubai International Cricket Stadium</th>\n",
       "      <th>venue_Eden Gardens</th>\n",
       "      <th>venue_Feroz Shah Kotla</th>\n",
       "      <th>venue_Himachal Pradesh Cricket Association Stadium</th>\n",
       "      <th>venue_Holkar Cricket Stadium</th>\n",
       "      <th>venue_JSCA International Stadium Complex</th>\n",
       "      <th>venue_Kingsmead</th>\n",
       "      <th>venue_M Chinnaswamy Stadium</th>\n",
       "      <th>venue_MA Chidambaram Stadium, Chepauk</th>\n",
       "      <th>venue_Maharashtra Cricket Association Stadium</th>\n",
       "      <th>venue_New Wanderers Stadium</th>\n",
       "      <th>venue_Newlands</th>\n",
       "      <th>venue_OUTsurance Oval</th>\n",
       "      <th>venue_Punjab Cricket Association IS Bindra Stadium, Mohali</th>\n",
       "      <th>venue_Punjab Cricket Association Stadium, Mohali</th>\n",
       "      <th>venue_Rajiv Gandhi International Stadium, Uppal</th>\n",
       "      <th>venue_Sardar Patel Stadium, Motera</th>\n",
       "      <th>venue_Sawai Mansingh Stadium</th>\n",
       "      <th>venue_Shaheed Veer Narayan Singh International Stadium</th>\n",
       "      <th>venue_Sharjah Cricket Stadium</th>\n",
       "      <th>venue_Sheikh Zayed Stadium</th>\n",
       "      <th>venue_St George's Park</th>\n",
       "      <th>venue_Subrata Roy Sahara Stadium</th>\n",
       "      <th>venue_SuperSport Park</th>\n",
       "      <th>venue_Wankhede Stadium</th>\n",
       "      <th>bat_team_Chennai Super Kings</th>\n",
       "      <th>bat_team_Delhi Daredevils</th>\n",
       "      <th>bat_team_Kings XI Punjab</th>\n",
       "      <th>bat_team_Kolkata Knight Riders</th>\n",
       "      <th>bat_team_Mumbai Indians</th>\n",
       "      <th>bat_team_Rajasthan Royals</th>\n",
       "      <th>bat_team_Royal Challengers Bangalore</th>\n",
       "      <th>bat_team_Sunrisers Hyderabad</th>\n",
       "      <th>bowl_team_Chennai Super Kings</th>\n",
       "      <th>bowl_team_Delhi Daredevils</th>\n",
       "      <th>bowl_team_Kings XI Punjab</th>\n",
       "      <th>bowl_team_Kolkata Knight Riders</th>\n",
       "      <th>bowl_team_Mumbai Indians</th>\n",
       "      <th>bowl_team_Rajasthan Royals</th>\n",
       "      <th>bowl_team_Royal Challengers Bangalore</th>\n",
       "      <th>bowl_team_Sunrisers Hyderabad</th>\n",
       "      <th>total</th>\n",
       "    </tr>\n",
       "  </thead>\n",
       "  <tbody>\n",
       "    <tr>\n",
       "      <th>32</th>\n",
       "      <td>2008-04-18</td>\n",
       "      <td>61</td>\n",
       "      <td>0</td>\n",
       "      <td>5.1</td>\n",
       "      <td>59</td>\n",
       "      <td>0</td>\n",
       "      <td>0</td>\n",
       "      <td>0</td>\n",
       "      <td>0</td>\n",
       "      <td>0</td>\n",
       "      <td>0</td>\n",
       "      <td>0</td>\n",
       "      <td>0</td>\n",
       "      <td>0</td>\n",
       "      <td>0</td>\n",
       "      <td>0</td>\n",
       "      <td>0</td>\n",
       "      <td>0</td>\n",
       "      <td>0</td>\n",
       "      <td>1</td>\n",
       "      <td>0</td>\n",
       "      <td>0</td>\n",
       "      <td>0</td>\n",
       "      <td>0</td>\n",
       "      <td>0</td>\n",
       "      <td>0</td>\n",
       "      <td>0</td>\n",
       "      <td>0</td>\n",
       "      <td>0</td>\n",
       "      <td>0</td>\n",
       "      <td>0</td>\n",
       "      <td>0</td>\n",
       "      <td>0</td>\n",
       "      <td>0</td>\n",
       "      <td>0</td>\n",
       "      <td>0</td>\n",
       "      <td>0</td>\n",
       "      <td>0</td>\n",
       "      <td>0</td>\n",
       "      <td>0</td>\n",
       "      <td>1</td>\n",
       "      <td>0</td>\n",
       "      <td>0</td>\n",
       "      <td>0</td>\n",
       "      <td>0</td>\n",
       "      <td>0</td>\n",
       "      <td>0</td>\n",
       "      <td>0</td>\n",
       "      <td>0</td>\n",
       "      <td>0</td>\n",
       "      <td>0</td>\n",
       "      <td>1</td>\n",
       "      <td>0</td>\n",
       "      <td>222</td>\n",
       "    </tr>\n",
       "    <tr>\n",
       "      <th>33</th>\n",
       "      <td>2008-04-18</td>\n",
       "      <td>61</td>\n",
       "      <td>1</td>\n",
       "      <td>5.2</td>\n",
       "      <td>59</td>\n",
       "      <td>1</td>\n",
       "      <td>0</td>\n",
       "      <td>0</td>\n",
       "      <td>0</td>\n",
       "      <td>0</td>\n",
       "      <td>0</td>\n",
       "      <td>0</td>\n",
       "      <td>0</td>\n",
       "      <td>0</td>\n",
       "      <td>0</td>\n",
       "      <td>0</td>\n",
       "      <td>0</td>\n",
       "      <td>0</td>\n",
       "      <td>0</td>\n",
       "      <td>1</td>\n",
       "      <td>0</td>\n",
       "      <td>0</td>\n",
       "      <td>0</td>\n",
       "      <td>0</td>\n",
       "      <td>0</td>\n",
       "      <td>0</td>\n",
       "      <td>0</td>\n",
       "      <td>0</td>\n",
       "      <td>0</td>\n",
       "      <td>0</td>\n",
       "      <td>0</td>\n",
       "      <td>0</td>\n",
       "      <td>0</td>\n",
       "      <td>0</td>\n",
       "      <td>0</td>\n",
       "      <td>0</td>\n",
       "      <td>0</td>\n",
       "      <td>0</td>\n",
       "      <td>0</td>\n",
       "      <td>0</td>\n",
       "      <td>1</td>\n",
       "      <td>0</td>\n",
       "      <td>0</td>\n",
       "      <td>0</td>\n",
       "      <td>0</td>\n",
       "      <td>0</td>\n",
       "      <td>0</td>\n",
       "      <td>0</td>\n",
       "      <td>0</td>\n",
       "      <td>0</td>\n",
       "      <td>0</td>\n",
       "      <td>1</td>\n",
       "      <td>0</td>\n",
       "      <td>222</td>\n",
       "    </tr>\n",
       "    <tr>\n",
       "      <th>34</th>\n",
       "      <td>2008-04-18</td>\n",
       "      <td>61</td>\n",
       "      <td>1</td>\n",
       "      <td>5.3</td>\n",
       "      <td>59</td>\n",
       "      <td>1</td>\n",
       "      <td>0</td>\n",
       "      <td>0</td>\n",
       "      <td>0</td>\n",
       "      <td>0</td>\n",
       "      <td>0</td>\n",
       "      <td>0</td>\n",
       "      <td>0</td>\n",
       "      <td>0</td>\n",
       "      <td>0</td>\n",
       "      <td>0</td>\n",
       "      <td>0</td>\n",
       "      <td>0</td>\n",
       "      <td>0</td>\n",
       "      <td>1</td>\n",
       "      <td>0</td>\n",
       "      <td>0</td>\n",
       "      <td>0</td>\n",
       "      <td>0</td>\n",
       "      <td>0</td>\n",
       "      <td>0</td>\n",
       "      <td>0</td>\n",
       "      <td>0</td>\n",
       "      <td>0</td>\n",
       "      <td>0</td>\n",
       "      <td>0</td>\n",
       "      <td>0</td>\n",
       "      <td>0</td>\n",
       "      <td>0</td>\n",
       "      <td>0</td>\n",
       "      <td>0</td>\n",
       "      <td>0</td>\n",
       "      <td>0</td>\n",
       "      <td>0</td>\n",
       "      <td>0</td>\n",
       "      <td>1</td>\n",
       "      <td>0</td>\n",
       "      <td>0</td>\n",
       "      <td>0</td>\n",
       "      <td>0</td>\n",
       "      <td>0</td>\n",
       "      <td>0</td>\n",
       "      <td>0</td>\n",
       "      <td>0</td>\n",
       "      <td>0</td>\n",
       "      <td>0</td>\n",
       "      <td>1</td>\n",
       "      <td>0</td>\n",
       "      <td>222</td>\n",
       "    </tr>\n",
       "    <tr>\n",
       "      <th>35</th>\n",
       "      <td>2008-04-18</td>\n",
       "      <td>61</td>\n",
       "      <td>1</td>\n",
       "      <td>5.4</td>\n",
       "      <td>59</td>\n",
       "      <td>1</td>\n",
       "      <td>0</td>\n",
       "      <td>0</td>\n",
       "      <td>0</td>\n",
       "      <td>0</td>\n",
       "      <td>0</td>\n",
       "      <td>0</td>\n",
       "      <td>0</td>\n",
       "      <td>0</td>\n",
       "      <td>0</td>\n",
       "      <td>0</td>\n",
       "      <td>0</td>\n",
       "      <td>0</td>\n",
       "      <td>0</td>\n",
       "      <td>1</td>\n",
       "      <td>0</td>\n",
       "      <td>0</td>\n",
       "      <td>0</td>\n",
       "      <td>0</td>\n",
       "      <td>0</td>\n",
       "      <td>0</td>\n",
       "      <td>0</td>\n",
       "      <td>0</td>\n",
       "      <td>0</td>\n",
       "      <td>0</td>\n",
       "      <td>0</td>\n",
       "      <td>0</td>\n",
       "      <td>0</td>\n",
       "      <td>0</td>\n",
       "      <td>0</td>\n",
       "      <td>0</td>\n",
       "      <td>0</td>\n",
       "      <td>0</td>\n",
       "      <td>0</td>\n",
       "      <td>0</td>\n",
       "      <td>1</td>\n",
       "      <td>0</td>\n",
       "      <td>0</td>\n",
       "      <td>0</td>\n",
       "      <td>0</td>\n",
       "      <td>0</td>\n",
       "      <td>0</td>\n",
       "      <td>0</td>\n",
       "      <td>0</td>\n",
       "      <td>0</td>\n",
       "      <td>0</td>\n",
       "      <td>1</td>\n",
       "      <td>0</td>\n",
       "      <td>222</td>\n",
       "    </tr>\n",
       "    <tr>\n",
       "      <th>36</th>\n",
       "      <td>2008-04-18</td>\n",
       "      <td>61</td>\n",
       "      <td>1</td>\n",
       "      <td>5.5</td>\n",
       "      <td>58</td>\n",
       "      <td>1</td>\n",
       "      <td>0</td>\n",
       "      <td>0</td>\n",
       "      <td>0</td>\n",
       "      <td>0</td>\n",
       "      <td>0</td>\n",
       "      <td>0</td>\n",
       "      <td>0</td>\n",
       "      <td>0</td>\n",
       "      <td>0</td>\n",
       "      <td>0</td>\n",
       "      <td>0</td>\n",
       "      <td>0</td>\n",
       "      <td>0</td>\n",
       "      <td>1</td>\n",
       "      <td>0</td>\n",
       "      <td>0</td>\n",
       "      <td>0</td>\n",
       "      <td>0</td>\n",
       "      <td>0</td>\n",
       "      <td>0</td>\n",
       "      <td>0</td>\n",
       "      <td>0</td>\n",
       "      <td>0</td>\n",
       "      <td>0</td>\n",
       "      <td>0</td>\n",
       "      <td>0</td>\n",
       "      <td>0</td>\n",
       "      <td>0</td>\n",
       "      <td>0</td>\n",
       "      <td>0</td>\n",
       "      <td>0</td>\n",
       "      <td>0</td>\n",
       "      <td>0</td>\n",
       "      <td>0</td>\n",
       "      <td>1</td>\n",
       "      <td>0</td>\n",
       "      <td>0</td>\n",
       "      <td>0</td>\n",
       "      <td>0</td>\n",
       "      <td>0</td>\n",
       "      <td>0</td>\n",
       "      <td>0</td>\n",
       "      <td>0</td>\n",
       "      <td>0</td>\n",
       "      <td>0</td>\n",
       "      <td>1</td>\n",
       "      <td>0</td>\n",
       "      <td>222</td>\n",
       "    </tr>\n",
       "  </tbody>\n",
       "</table>\n",
       "</div>"
      ],
      "text/plain": [
       "         date  runs  ...  bowl_team_Sunrisers Hyderabad  total\n",
       "32 2008-04-18    61  ...                              0    222\n",
       "33 2008-04-18    61  ...                              0    222\n",
       "34 2008-04-18    61  ...                              0    222\n",
       "35 2008-04-18    61  ...                              0    222\n",
       "36 2008-04-18    61  ...                              0    222\n",
       "\n",
       "[5 rows x 54 columns]"
      ]
     },
     "execution_count": 67,
     "metadata": {
      "tags": []
     },
     "output_type": "execute_result"
    }
   ],
   "source": [
    "encoded_df.head()"
   ]
  },
  {
   "cell_type": "markdown",
   "metadata": {
    "colab_type": "text",
    "id": "4-DKAojfyhVO"
   },
   "source": [
    "## train_test split according to time(dt.year)"
   ]
  },
  {
   "cell_type": "code",
   "execution_count": null,
   "metadata": {
    "colab": {},
    "colab_type": "code",
    "id": "v2IIeFfQnJ43"
   },
   "outputs": [],
   "source": [
    "x_train = encoded_df.drop(labels='total',axis =1) [encoded_df['date'].dt.year<=2016]\n",
    "x_test = encoded_df.drop(labels='total',axis =1) [encoded_df['date'].dt.year>=2017]"
   ]
  },
  {
   "cell_type": "code",
   "execution_count": null,
   "metadata": {
    "colab": {},
    "colab_type": "code",
    "id": "_-kzaVCFowco"
   },
   "outputs": [],
   "source": [
    "y_train =encoded_df[encoded_df['date'].dt.year<=2016]['total'].values\n",
    "y_test = encoded_df[encoded_df['date'].dt.year>=2017]['total'].values"
   ]
  },
  {
   "cell_type": "code",
   "execution_count": null,
   "metadata": {
    "colab": {
     "base_uri": "https://localhost:8080/",
     "height": 34
    },
    "colab_type": "code",
    "executionInfo": {
     "elapsed": 4244,
     "status": "ok",
     "timestamp": 1594348880310,
     "user": {
      "displayName": "anirban nayek",
      "photoUrl": "https://lh3.googleusercontent.com/a-/AOh14GhXCTdgvlsaGvJwJY3vKdhp56QTTtCdyHO7wY0vxg=s64",
      "userId": "01629633000911080543"
     },
     "user_tz": -330
    },
    "id": "s7O2MXdOyUQd",
    "outputId": "b8b83d44-2bd6-4401-a06b-67b15a59a415"
   },
   "outputs": [
    {
     "data": {
      "text/plain": [
       "(37330, 53)"
      ]
     },
     "execution_count": 70,
     "metadata": {
      "tags": []
     },
     "output_type": "execute_result"
    }
   ],
   "source": [
    "x_train.shape"
   ]
  },
  {
   "cell_type": "code",
   "execution_count": null,
   "metadata": {
    "colab": {
     "base_uri": "https://localhost:8080/",
     "height": 34
    },
    "colab_type": "code",
    "executionInfo": {
     "elapsed": 4163,
     "status": "ok",
     "timestamp": 1594348880311,
     "user": {
      "displayName": "anirban nayek",
      "photoUrl": "https://lh3.googleusercontent.com/a-/AOh14GhXCTdgvlsaGvJwJY3vKdhp56QTTtCdyHO7wY0vxg=s64",
      "userId": "01629633000911080543"
     },
     "user_tz": -330
    },
    "id": "QwTQt24PyYrf",
    "outputId": "0932e91e-47dc-4a72-8ee6-5eeab6a55266"
   },
   "outputs": [
    {
     "data": {
      "text/plain": [
       "(2778, 53)"
      ]
     },
     "execution_count": 71,
     "metadata": {
      "tags": []
     },
     "output_type": "execute_result"
    }
   ],
   "source": [
    "x_test.shape"
   ]
  },
  {
   "cell_type": "code",
   "execution_count": null,
   "metadata": {
    "colab": {
     "base_uri": "https://localhost:8080/",
     "height": 34
    },
    "colab_type": "code",
    "executionInfo": {
     "elapsed": 4082,
     "status": "ok",
     "timestamp": 1594348880312,
     "user": {
      "displayName": "anirban nayek",
      "photoUrl": "https://lh3.googleusercontent.com/a-/AOh14GhXCTdgvlsaGvJwJY3vKdhp56QTTtCdyHO7wY0vxg=s64",
      "userId": "01629633000911080543"
     },
     "user_tz": -330
    },
    "id": "W4Elnqruyb4d",
    "outputId": "5a08cab0-9468-4357-f16e-77e84b6afc09"
   },
   "outputs": [
    {
     "data": {
      "text/plain": [
       "(2778,)"
      ]
     },
     "execution_count": 72,
     "metadata": {
      "tags": []
     },
     "output_type": "execute_result"
    }
   ],
   "source": [
    "y_test.shape"
   ]
  },
  {
   "cell_type": "code",
   "execution_count": null,
   "metadata": {
    "colab": {
     "base_uri": "https://localhost:8080/",
     "height": 34
    },
    "colab_type": "code",
    "executionInfo": {
     "elapsed": 4012,
     "status": "ok",
     "timestamp": 1594348880313,
     "user": {
      "displayName": "anirban nayek",
      "photoUrl": "https://lh3.googleusercontent.com/a-/AOh14GhXCTdgvlsaGvJwJY3vKdhp56QTTtCdyHO7wY0vxg=s64",
      "userId": "01629633000911080543"
     },
     "user_tz": -330
    },
    "id": "XKmMuIHdyck_",
    "outputId": "63eac726-f8d0-4ae8-d445-450161667d56"
   },
   "outputs": [
    {
     "data": {
      "text/plain": [
       "(37330,)"
      ]
     },
     "execution_count": 73,
     "metadata": {
      "tags": []
     },
     "output_type": "execute_result"
    }
   ],
   "source": [
    "y_train.shape"
   ]
  },
  {
   "cell_type": "code",
   "execution_count": null,
   "metadata": {
    "colab": {
     "base_uri": "https://localhost:8080/",
     "height": 400
    },
    "colab_type": "code",
    "executionInfo": {
     "elapsed": 3931,
     "status": "ok",
     "timestamp": 1594348880314,
     "user": {
      "displayName": "anirban nayek",
      "photoUrl": "https://lh3.googleusercontent.com/a-/AOh14GhXCTdgvlsaGvJwJY3vKdhp56QTTtCdyHO7wY0vxg=s64",
      "userId": "01629633000911080543"
     },
     "user_tz": -330
    },
    "id": "zIbAzPVktpz5",
    "outputId": "4e000638-eac6-41aa-b120-ef911862ac15"
   },
   "outputs": [
    {
     "data": {
      "text/html": [
       "<div>\n",
       "<style scoped>\n",
       "    .dataframe tbody tr th:only-of-type {\n",
       "        vertical-align: middle;\n",
       "    }\n",
       "\n",
       "    .dataframe tbody tr th {\n",
       "        vertical-align: top;\n",
       "    }\n",
       "\n",
       "    .dataframe thead th {\n",
       "        text-align: right;\n",
       "    }\n",
       "</style>\n",
       "<table border=\"1\" class=\"dataframe\">\n",
       "  <thead>\n",
       "    <tr style=\"text-align: right;\">\n",
       "      <th></th>\n",
       "      <th>date</th>\n",
       "      <th>runs</th>\n",
       "      <th>wickets</th>\n",
       "      <th>overs</th>\n",
       "      <th>runs_last_5</th>\n",
       "      <th>wickets_last_5</th>\n",
       "      <th>venue_Barabati Stadium</th>\n",
       "      <th>venue_Brabourne Stadium</th>\n",
       "      <th>venue_Buffalo Park</th>\n",
       "      <th>venue_De Beers Diamond Oval</th>\n",
       "      <th>venue_Dr DY Patil Sports Academy</th>\n",
       "      <th>venue_Dr. Y.S. Rajasekhara Reddy ACA-VDCA Cricket Stadium</th>\n",
       "      <th>venue_Dubai International Cricket Stadium</th>\n",
       "      <th>venue_Eden Gardens</th>\n",
       "      <th>venue_Feroz Shah Kotla</th>\n",
       "      <th>venue_Himachal Pradesh Cricket Association Stadium</th>\n",
       "      <th>venue_Holkar Cricket Stadium</th>\n",
       "      <th>venue_JSCA International Stadium Complex</th>\n",
       "      <th>venue_Kingsmead</th>\n",
       "      <th>venue_M Chinnaswamy Stadium</th>\n",
       "      <th>venue_MA Chidambaram Stadium, Chepauk</th>\n",
       "      <th>venue_Maharashtra Cricket Association Stadium</th>\n",
       "      <th>venue_New Wanderers Stadium</th>\n",
       "      <th>venue_Newlands</th>\n",
       "      <th>venue_OUTsurance Oval</th>\n",
       "      <th>venue_Punjab Cricket Association IS Bindra Stadium, Mohali</th>\n",
       "      <th>venue_Punjab Cricket Association Stadium, Mohali</th>\n",
       "      <th>venue_Rajiv Gandhi International Stadium, Uppal</th>\n",
       "      <th>venue_Sardar Patel Stadium, Motera</th>\n",
       "      <th>venue_Sawai Mansingh Stadium</th>\n",
       "      <th>venue_Shaheed Veer Narayan Singh International Stadium</th>\n",
       "      <th>venue_Sharjah Cricket Stadium</th>\n",
       "      <th>venue_Sheikh Zayed Stadium</th>\n",
       "      <th>venue_St George's Park</th>\n",
       "      <th>venue_Subrata Roy Sahara Stadium</th>\n",
       "      <th>venue_SuperSport Park</th>\n",
       "      <th>venue_Wankhede Stadium</th>\n",
       "      <th>bat_team_Chennai Super Kings</th>\n",
       "      <th>bat_team_Delhi Daredevils</th>\n",
       "      <th>bat_team_Kings XI Punjab</th>\n",
       "      <th>bat_team_Kolkata Knight Riders</th>\n",
       "      <th>bat_team_Mumbai Indians</th>\n",
       "      <th>bat_team_Rajasthan Royals</th>\n",
       "      <th>bat_team_Royal Challengers Bangalore</th>\n",
       "      <th>bat_team_Sunrisers Hyderabad</th>\n",
       "      <th>bowl_team_Chennai Super Kings</th>\n",
       "      <th>bowl_team_Delhi Daredevils</th>\n",
       "      <th>bowl_team_Kings XI Punjab</th>\n",
       "      <th>bowl_team_Kolkata Knight Riders</th>\n",
       "      <th>bowl_team_Mumbai Indians</th>\n",
       "      <th>bowl_team_Rajasthan Royals</th>\n",
       "      <th>bowl_team_Royal Challengers Bangalore</th>\n",
       "      <th>bowl_team_Sunrisers Hyderabad</th>\n",
       "    </tr>\n",
       "  </thead>\n",
       "  <tbody>\n",
       "    <tr>\n",
       "      <th>32</th>\n",
       "      <td>2008-04-18</td>\n",
       "      <td>61</td>\n",
       "      <td>0</td>\n",
       "      <td>5.1</td>\n",
       "      <td>59</td>\n",
       "      <td>0</td>\n",
       "      <td>0</td>\n",
       "      <td>0</td>\n",
       "      <td>0</td>\n",
       "      <td>0</td>\n",
       "      <td>0</td>\n",
       "      <td>0</td>\n",
       "      <td>0</td>\n",
       "      <td>0</td>\n",
       "      <td>0</td>\n",
       "      <td>0</td>\n",
       "      <td>0</td>\n",
       "      <td>0</td>\n",
       "      <td>0</td>\n",
       "      <td>1</td>\n",
       "      <td>0</td>\n",
       "      <td>0</td>\n",
       "      <td>0</td>\n",
       "      <td>0</td>\n",
       "      <td>0</td>\n",
       "      <td>0</td>\n",
       "      <td>0</td>\n",
       "      <td>0</td>\n",
       "      <td>0</td>\n",
       "      <td>0</td>\n",
       "      <td>0</td>\n",
       "      <td>0</td>\n",
       "      <td>0</td>\n",
       "      <td>0</td>\n",
       "      <td>0</td>\n",
       "      <td>0</td>\n",
       "      <td>0</td>\n",
       "      <td>0</td>\n",
       "      <td>0</td>\n",
       "      <td>0</td>\n",
       "      <td>1</td>\n",
       "      <td>0</td>\n",
       "      <td>0</td>\n",
       "      <td>0</td>\n",
       "      <td>0</td>\n",
       "      <td>0</td>\n",
       "      <td>0</td>\n",
       "      <td>0</td>\n",
       "      <td>0</td>\n",
       "      <td>0</td>\n",
       "      <td>0</td>\n",
       "      <td>1</td>\n",
       "      <td>0</td>\n",
       "    </tr>\n",
       "    <tr>\n",
       "      <th>33</th>\n",
       "      <td>2008-04-18</td>\n",
       "      <td>61</td>\n",
       "      <td>1</td>\n",
       "      <td>5.2</td>\n",
       "      <td>59</td>\n",
       "      <td>1</td>\n",
       "      <td>0</td>\n",
       "      <td>0</td>\n",
       "      <td>0</td>\n",
       "      <td>0</td>\n",
       "      <td>0</td>\n",
       "      <td>0</td>\n",
       "      <td>0</td>\n",
       "      <td>0</td>\n",
       "      <td>0</td>\n",
       "      <td>0</td>\n",
       "      <td>0</td>\n",
       "      <td>0</td>\n",
       "      <td>0</td>\n",
       "      <td>1</td>\n",
       "      <td>0</td>\n",
       "      <td>0</td>\n",
       "      <td>0</td>\n",
       "      <td>0</td>\n",
       "      <td>0</td>\n",
       "      <td>0</td>\n",
       "      <td>0</td>\n",
       "      <td>0</td>\n",
       "      <td>0</td>\n",
       "      <td>0</td>\n",
       "      <td>0</td>\n",
       "      <td>0</td>\n",
       "      <td>0</td>\n",
       "      <td>0</td>\n",
       "      <td>0</td>\n",
       "      <td>0</td>\n",
       "      <td>0</td>\n",
       "      <td>0</td>\n",
       "      <td>0</td>\n",
       "      <td>0</td>\n",
       "      <td>1</td>\n",
       "      <td>0</td>\n",
       "      <td>0</td>\n",
       "      <td>0</td>\n",
       "      <td>0</td>\n",
       "      <td>0</td>\n",
       "      <td>0</td>\n",
       "      <td>0</td>\n",
       "      <td>0</td>\n",
       "      <td>0</td>\n",
       "      <td>0</td>\n",
       "      <td>1</td>\n",
       "      <td>0</td>\n",
       "    </tr>\n",
       "    <tr>\n",
       "      <th>34</th>\n",
       "      <td>2008-04-18</td>\n",
       "      <td>61</td>\n",
       "      <td>1</td>\n",
       "      <td>5.3</td>\n",
       "      <td>59</td>\n",
       "      <td>1</td>\n",
       "      <td>0</td>\n",
       "      <td>0</td>\n",
       "      <td>0</td>\n",
       "      <td>0</td>\n",
       "      <td>0</td>\n",
       "      <td>0</td>\n",
       "      <td>0</td>\n",
       "      <td>0</td>\n",
       "      <td>0</td>\n",
       "      <td>0</td>\n",
       "      <td>0</td>\n",
       "      <td>0</td>\n",
       "      <td>0</td>\n",
       "      <td>1</td>\n",
       "      <td>0</td>\n",
       "      <td>0</td>\n",
       "      <td>0</td>\n",
       "      <td>0</td>\n",
       "      <td>0</td>\n",
       "      <td>0</td>\n",
       "      <td>0</td>\n",
       "      <td>0</td>\n",
       "      <td>0</td>\n",
       "      <td>0</td>\n",
       "      <td>0</td>\n",
       "      <td>0</td>\n",
       "      <td>0</td>\n",
       "      <td>0</td>\n",
       "      <td>0</td>\n",
       "      <td>0</td>\n",
       "      <td>0</td>\n",
       "      <td>0</td>\n",
       "      <td>0</td>\n",
       "      <td>0</td>\n",
       "      <td>1</td>\n",
       "      <td>0</td>\n",
       "      <td>0</td>\n",
       "      <td>0</td>\n",
       "      <td>0</td>\n",
       "      <td>0</td>\n",
       "      <td>0</td>\n",
       "      <td>0</td>\n",
       "      <td>0</td>\n",
       "      <td>0</td>\n",
       "      <td>0</td>\n",
       "      <td>1</td>\n",
       "      <td>0</td>\n",
       "    </tr>\n",
       "    <tr>\n",
       "      <th>35</th>\n",
       "      <td>2008-04-18</td>\n",
       "      <td>61</td>\n",
       "      <td>1</td>\n",
       "      <td>5.4</td>\n",
       "      <td>59</td>\n",
       "      <td>1</td>\n",
       "      <td>0</td>\n",
       "      <td>0</td>\n",
       "      <td>0</td>\n",
       "      <td>0</td>\n",
       "      <td>0</td>\n",
       "      <td>0</td>\n",
       "      <td>0</td>\n",
       "      <td>0</td>\n",
       "      <td>0</td>\n",
       "      <td>0</td>\n",
       "      <td>0</td>\n",
       "      <td>0</td>\n",
       "      <td>0</td>\n",
       "      <td>1</td>\n",
       "      <td>0</td>\n",
       "      <td>0</td>\n",
       "      <td>0</td>\n",
       "      <td>0</td>\n",
       "      <td>0</td>\n",
       "      <td>0</td>\n",
       "      <td>0</td>\n",
       "      <td>0</td>\n",
       "      <td>0</td>\n",
       "      <td>0</td>\n",
       "      <td>0</td>\n",
       "      <td>0</td>\n",
       "      <td>0</td>\n",
       "      <td>0</td>\n",
       "      <td>0</td>\n",
       "      <td>0</td>\n",
       "      <td>0</td>\n",
       "      <td>0</td>\n",
       "      <td>0</td>\n",
       "      <td>0</td>\n",
       "      <td>1</td>\n",
       "      <td>0</td>\n",
       "      <td>0</td>\n",
       "      <td>0</td>\n",
       "      <td>0</td>\n",
       "      <td>0</td>\n",
       "      <td>0</td>\n",
       "      <td>0</td>\n",
       "      <td>0</td>\n",
       "      <td>0</td>\n",
       "      <td>0</td>\n",
       "      <td>1</td>\n",
       "      <td>0</td>\n",
       "    </tr>\n",
       "    <tr>\n",
       "      <th>36</th>\n",
       "      <td>2008-04-18</td>\n",
       "      <td>61</td>\n",
       "      <td>1</td>\n",
       "      <td>5.5</td>\n",
       "      <td>58</td>\n",
       "      <td>1</td>\n",
       "      <td>0</td>\n",
       "      <td>0</td>\n",
       "      <td>0</td>\n",
       "      <td>0</td>\n",
       "      <td>0</td>\n",
       "      <td>0</td>\n",
       "      <td>0</td>\n",
       "      <td>0</td>\n",
       "      <td>0</td>\n",
       "      <td>0</td>\n",
       "      <td>0</td>\n",
       "      <td>0</td>\n",
       "      <td>0</td>\n",
       "      <td>1</td>\n",
       "      <td>0</td>\n",
       "      <td>0</td>\n",
       "      <td>0</td>\n",
       "      <td>0</td>\n",
       "      <td>0</td>\n",
       "      <td>0</td>\n",
       "      <td>0</td>\n",
       "      <td>0</td>\n",
       "      <td>0</td>\n",
       "      <td>0</td>\n",
       "      <td>0</td>\n",
       "      <td>0</td>\n",
       "      <td>0</td>\n",
       "      <td>0</td>\n",
       "      <td>0</td>\n",
       "      <td>0</td>\n",
       "      <td>0</td>\n",
       "      <td>0</td>\n",
       "      <td>0</td>\n",
       "      <td>0</td>\n",
       "      <td>1</td>\n",
       "      <td>0</td>\n",
       "      <td>0</td>\n",
       "      <td>0</td>\n",
       "      <td>0</td>\n",
       "      <td>0</td>\n",
       "      <td>0</td>\n",
       "      <td>0</td>\n",
       "      <td>0</td>\n",
       "      <td>0</td>\n",
       "      <td>0</td>\n",
       "      <td>1</td>\n",
       "      <td>0</td>\n",
       "    </tr>\n",
       "  </tbody>\n",
       "</table>\n",
       "</div>"
      ],
      "text/plain": [
       "         date  ...  bowl_team_Sunrisers Hyderabad\n",
       "32 2008-04-18  ...                              0\n",
       "33 2008-04-18  ...                              0\n",
       "34 2008-04-18  ...                              0\n",
       "35 2008-04-18  ...                              0\n",
       "36 2008-04-18  ...                              0\n",
       "\n",
       "[5 rows x 53 columns]"
      ]
     },
     "execution_count": 74,
     "metadata": {
      "tags": []
     },
     "output_type": "execute_result"
    }
   ],
   "source": [
    "x_train.head()"
   ]
  },
  {
   "cell_type": "code",
   "execution_count": null,
   "metadata": {
    "colab": {},
    "colab_type": "code",
    "id": "6dwgIQEHrkcf"
   },
   "outputs": [],
   "source": [
    "x_train.drop(labels='date', axis=True, inplace=True)\n",
    "x_test.drop(labels='date', axis=True, inplace=True)"
   ]
  },
  {
   "cell_type": "markdown",
   "metadata": {
    "colab_type": "text",
    "id": "opXtrzfMu4Pn"
   },
   "source": [
    "## linear regression"
   ]
  },
  {
   "cell_type": "code",
   "execution_count": null,
   "metadata": {
    "colab": {
     "base_uri": "https://localhost:8080/",
     "height": 34
    },
    "colab_type": "code",
    "executionInfo": {
     "elapsed": 4837,
     "status": "ok",
     "timestamp": 1594348881846,
     "user": {
      "displayName": "anirban nayek",
      "photoUrl": "https://lh3.googleusercontent.com/a-/AOh14GhXCTdgvlsaGvJwJY3vKdhp56QTTtCdyHO7wY0vxg=s64",
      "userId": "01629633000911080543"
     },
     "user_tz": -330
    },
    "id": "2eVcQC6ssXPF",
    "outputId": "a0e8cc22-c98d-413c-df4b-11cd76ec6869"
   },
   "outputs": [
    {
     "data": {
      "text/plain": [
       "LinearRegression(copy_X=True, fit_intercept=True, n_jobs=None, normalize=False)"
      ]
     },
     "execution_count": 76,
     "metadata": {
      "tags": []
     },
     "output_type": "execute_result"
    }
   ],
   "source": [
    "from sklearn.linear_model import LinearRegression\n",
    "regressor = LinearRegression()\n",
    "regressor.fit(x_train,y_train)"
   ]
  },
  {
   "cell_type": "code",
   "execution_count": null,
   "metadata": {
    "colab": {},
    "colab_type": "code",
    "id": "lDZwHIAVvv6h"
   },
   "outputs": [],
   "source": [
    "y_pred = regressor.predict(x_test)"
   ]
  },
  {
   "cell_type": "code",
   "execution_count": null,
   "metadata": {
    "colab": {},
    "colab_type": "code",
    "id": "LXdip9ehyCGR"
   },
   "outputs": [],
   "source": [
    "import matplotlib.pyplot as plt\n",
    "import numpy as np"
   ]
  },
  {
   "cell_type": "code",
   "execution_count": null,
   "metadata": {
    "colab": {
     "base_uri": "https://localhost:8080/",
     "height": 34
    },
    "colab_type": "code",
    "executionInfo": {
     "elapsed": 4191,
     "status": "ok",
     "timestamp": 1594348881850,
     "user": {
      "displayName": "anirban nayek",
      "photoUrl": "https://lh3.googleusercontent.com/a-/AOh14GhXCTdgvlsaGvJwJY3vKdhp56QTTtCdyHO7wY0vxg=s64",
      "userId": "01629633000911080543"
     },
     "user_tz": -330
    },
    "id": "bZOhgLl04IUD",
    "outputId": "c984b48e-b5e1-4196-fe34-0617adc5c282"
   },
   "outputs": [
    {
     "data": {
      "text/plain": [
       "0.7268629404471771"
      ]
     },
     "execution_count": 79,
     "metadata": {
      "tags": []
     },
     "output_type": "execute_result"
    }
   ],
   "source": [
    "from sklearn.metrics import explained_variance_score\n",
    "explained_variance_score(y_test,y_pred)"
   ]
  },
  {
   "cell_type": "markdown",
   "metadata": {
    "colab_type": "text",
    "id": "cKCwDHyL4acM"
   },
   "source": [
    "## decision tree"
   ]
  },
  {
   "cell_type": "code",
   "execution_count": null,
   "metadata": {
    "colab": {
     "base_uri": "https://localhost:8080/",
     "height": 118
    },
    "colab_type": "code",
    "executionInfo": {
     "elapsed": 3736,
     "status": "ok",
     "timestamp": 1594348881851,
     "user": {
      "displayName": "anirban nayek",
      "photoUrl": "https://lh3.googleusercontent.com/a-/AOh14GhXCTdgvlsaGvJwJY3vKdhp56QTTtCdyHO7wY0vxg=s64",
      "userId": "01629633000911080543"
     },
     "user_tz": -330
    },
    "id": "VV_Nfw6x4TK_",
    "outputId": "e21443c9-b359-4c0b-d1a7-99465c86d2ac"
   },
   "outputs": [
    {
     "data": {
      "text/plain": [
       "DecisionTreeRegressor(ccp_alpha=0.0, criterion='mse', max_depth=None,\n",
       "                      max_features=None, max_leaf_nodes=None,\n",
       "                      min_impurity_decrease=0.0, min_impurity_split=None,\n",
       "                      min_samples_leaf=1, min_samples_split=2,\n",
       "                      min_weight_fraction_leaf=0.0, presort='deprecated',\n",
       "                      random_state=None, splitter='best')"
      ]
     },
     "execution_count": 80,
     "metadata": {
      "tags": []
     },
     "output_type": "execute_result"
    }
   ],
   "source": [
    "from sklearn.tree import DecisionTreeRegressor\n",
    "regressor1 = DecisionTreeRegressor()\n",
    "regressor1.fit(x_train,y_train)"
   ]
  },
  {
   "cell_type": "code",
   "execution_count": null,
   "metadata": {
    "colab": {},
    "colab_type": "code",
    "id": "CjLKfF7v44dw"
   },
   "outputs": [],
   "source": [
    "y_pred1 = regressor1.predict(x_test)"
   ]
  },
  {
   "cell_type": "code",
   "execution_count": null,
   "metadata": {
    "colab": {
     "base_uri": "https://localhost:8080/",
     "height": 34
    },
    "colab_type": "code",
    "executionInfo": {
     "elapsed": 3276,
     "status": "ok",
     "timestamp": 1594348881854,
     "user": {
      "displayName": "anirban nayek",
      "photoUrl": "https://lh3.googleusercontent.com/a-/AOh14GhXCTdgvlsaGvJwJY3vKdhp56QTTtCdyHO7wY0vxg=s64",
      "userId": "01629633000911080543"
     },
     "user_tz": -330
    },
    "id": "UzcVB5Y65GNQ",
    "outputId": "b4ee7cdf-c8df-4a1b-dceb-6f77eadc9550"
   },
   "outputs": [
    {
     "data": {
      "text/plain": [
       "0.41504329262552975"
      ]
     },
     "execution_count": 82,
     "metadata": {
      "tags": []
     },
     "output_type": "execute_result"
    }
   ],
   "source": [
    "from sklearn.metrics import explained_variance_score\n",
    "explained_variance_score(y_test,y_pred1)"
   ]
  },
  {
   "cell_type": "markdown",
   "metadata": {
    "colab_type": "text",
    "id": "uvSJTn-o5W0O"
   },
   "source": [
    "## random forest regression"
   ]
  },
  {
   "cell_type": "code",
   "execution_count": null,
   "metadata": {
    "colab": {
     "base_uri": "https://localhost:8080/",
     "height": 134
    },
    "colab_type": "code",
    "executionInfo": {
     "elapsed": 5610,
     "status": "ok",
     "timestamp": 1594348884591,
     "user": {
      "displayName": "anirban nayek",
      "photoUrl": "https://lh3.googleusercontent.com/a-/AOh14GhXCTdgvlsaGvJwJY3vKdhp56QTTtCdyHO7wY0vxg=s64",
      "userId": "01629633000911080543"
     },
     "user_tz": -330
    },
    "id": "uO26IxoO5QUs",
    "outputId": "d171bb6c-96b7-4e54-9a4c-e400ee4e84e7"
   },
   "outputs": [
    {
     "data": {
      "text/plain": [
       "RandomForestRegressor(bootstrap=True, ccp_alpha=0.0, criterion='mse',\n",
       "                      max_depth=None, max_features='auto', max_leaf_nodes=None,\n",
       "                      max_samples=None, min_impurity_decrease=0.0,\n",
       "                      min_impurity_split=None, min_samples_leaf=1,\n",
       "                      min_samples_split=2, min_weight_fraction_leaf=0.0,\n",
       "                      n_estimators=10, n_jobs=None, oob_score=False,\n",
       "                      random_state=None, verbose=0, warm_start=False)"
      ]
     },
     "execution_count": 83,
     "metadata": {
      "tags": []
     },
     "output_type": "execute_result"
    }
   ],
   "source": [
    "from sklearn.ensemble import RandomForestRegressor\n",
    "regressor2 = RandomForestRegressor(n_estimators=10)\n",
    "regressor2.fit(x_train,y_train)"
   ]
  },
  {
   "cell_type": "code",
   "execution_count": null,
   "metadata": {
    "colab": {},
    "colab_type": "code",
    "id": "39SHTkKO65iI"
   },
   "outputs": [],
   "source": [
    "y_pred2 = regressor2.predict(x_test)"
   ]
  },
  {
   "cell_type": "code",
   "execution_count": null,
   "metadata": {
    "colab": {
     "base_uri": "https://localhost:8080/",
     "height": 34
    },
    "colab_type": "code",
    "executionInfo": {
     "elapsed": 4866,
     "status": "ok",
     "timestamp": 1594348884592,
     "user": {
      "displayName": "anirban nayek",
      "photoUrl": "https://lh3.googleusercontent.com/a-/AOh14GhXCTdgvlsaGvJwJY3vKdhp56QTTtCdyHO7wY0vxg=s64",
      "userId": "01629633000911080543"
     },
     "user_tz": -330
    },
    "id": "YhFYDA_x7EAQ",
    "outputId": "2c2c7d1c-f430-489a-8368-78ba6bccaaf4"
   },
   "outputs": [
    {
     "data": {
      "text/plain": [
       "0.6221574908382616"
      ]
     },
     "execution_count": 85,
     "metadata": {
      "tags": []
     },
     "output_type": "execute_result"
    }
   ],
   "source": [
    "from sklearn.metrics import explained_variance_score\n",
    "explained_variance_score(y_test,y_pred2)"
   ]
  },
  {
   "cell_type": "markdown",
   "metadata": {
    "colab_type": "text",
    "id": "KV40UNKl7nhe"
   },
   "source": [
    "## ridge regression"
   ]
  },
  {
   "cell_type": "code",
   "execution_count": null,
   "metadata": {
    "colab": {},
    "colab_type": "code",
    "id": "vm8AZBs07F2d"
   },
   "outputs": [],
   "source": [
    "from sklearn.linear_model import Ridge\n",
    "from sklearn.model_selection import GridSearchCV"
   ]
  },
  {
   "cell_type": "code",
   "execution_count": null,
   "metadata": {
    "colab": {
     "base_uri": "https://localhost:8080/",
     "height": 390
    },
    "colab_type": "code",
    "executionInfo": {
     "elapsed": 7068,
     "status": "ok",
     "timestamp": 1594348887466,
     "user": {
      "displayName": "anirban nayek",
      "photoUrl": "https://lh3.googleusercontent.com/a-/AOh14GhXCTdgvlsaGvJwJY3vKdhp56QTTtCdyHO7wY0vxg=s64",
      "userId": "01629633000911080543"
     },
     "user_tz": -330
    },
    "id": "0-gHybWq7wbl",
    "outputId": "6a5a3032-803e-49ae-f118-c69c4daa3524"
   },
   "outputs": [
    {
     "name": "stderr",
     "output_type": "stream",
     "text": [
      "/usr/local/lib/python3.6/dist-packages/sklearn/linear_model/_ridge.py:148: LinAlgWarning: Ill-conditioned matrix (rcond=1.56401e-23): result may not be accurate.\n",
      "  overwrite_a=True).T\n",
      "/usr/local/lib/python3.6/dist-packages/sklearn/linear_model/_ridge.py:148: LinAlgWarning: Ill-conditioned matrix (rcond=1.417e-18): result may not be accurate.\n",
      "  overwrite_a=True).T\n",
      "/usr/local/lib/python3.6/dist-packages/sklearn/linear_model/_ridge.py:148: LinAlgWarning: Ill-conditioned matrix (rcond=1.44219e-18): result may not be accurate.\n",
      "  overwrite_a=True).T\n",
      "/usr/local/lib/python3.6/dist-packages/sklearn/linear_model/_ridge.py:148: LinAlgWarning: Ill-conditioned matrix (rcond=1.37661e-18): result may not be accurate.\n",
      "  overwrite_a=True).T\n",
      "/usr/local/lib/python3.6/dist-packages/sklearn/linear_model/_ridge.py:148: LinAlgWarning: Ill-conditioned matrix (rcond=1.56401e-18): result may not be accurate.\n",
      "  overwrite_a=True).T\n",
      "/usr/local/lib/python3.6/dist-packages/sklearn/linear_model/_ridge.py:148: LinAlgWarning: Ill-conditioned matrix (rcond=1.59502e-18): result may not be accurate.\n",
      "  overwrite_a=True).T\n"
     ]
    },
    {
     "data": {
      "text/plain": [
       "GridSearchCV(cv=5, error_score=nan,\n",
       "             estimator=Ridge(alpha=1.0, copy_X=True, fit_intercept=True,\n",
       "                             max_iter=None, normalize=False, random_state=None,\n",
       "                             solver='auto', tol=0.001),\n",
       "             iid='deprecated', n_jobs=None,\n",
       "             param_grid={'alpha': [1e-15, 1e-10, 1e-08, 0.001, 0.01, 1, 5, 10,\n",
       "                                   20, 30, 35, 40]},\n",
       "             pre_dispatch='2*n_jobs', refit=True, return_train_score=False,\n",
       "             scoring='neg_mean_squared_error', verbose=0)"
      ]
     },
     "execution_count": 87,
     "metadata": {
      "tags": []
     },
     "output_type": "execute_result"
    }
   ],
   "source": [
    "ridge=Ridge()\n",
    "parameters={'alpha':[1e-15,1e-10,1e-8,1e-3,1e-2,1,5,10,20,30,35,40]}\n",
    "ridge_regressor=GridSearchCV(ridge,parameters,scoring='neg_mean_squared_error',cv=5)\n",
    "ridge_regressor.fit(x_train,y_train)"
   ]
  },
  {
   "cell_type": "code",
   "execution_count": null,
   "metadata": {
    "colab": {
     "base_uri": "https://localhost:8080/",
     "height": 50
    },
    "colab_type": "code",
    "executionInfo": {
     "elapsed": 6851,
     "status": "ok",
     "timestamp": 1594348887468,
     "user": {
      "displayName": "anirban nayek",
      "photoUrl": "https://lh3.googleusercontent.com/a-/AOh14GhXCTdgvlsaGvJwJY3vKdhp56QTTtCdyHO7wY0vxg=s64",
      "userId": "01629633000911080543"
     },
     "user_tz": -330
    },
    "id": "spgBnwsQ70mu",
    "outputId": "aa421360-95a6-4100-d95c-3346cf4aef15"
   },
   "outputs": [
    {
     "name": "stdout",
     "output_type": "stream",
     "text": [
      "{'alpha': 40}\n",
      "-338.35470543710426\n"
     ]
    }
   ],
   "source": [
    "print(ridge_regressor.best_params_)\n",
    "print(ridge_regressor.best_score_)"
   ]
  },
  {
   "cell_type": "code",
   "execution_count": null,
   "metadata": {
    "colab": {},
    "colab_type": "code",
    "id": "_VhBp5ds769Y"
   },
   "outputs": [],
   "source": [
    "prediction=ridge_regressor.predict(x_test)"
   ]
  },
  {
   "cell_type": "code",
   "execution_count": null,
   "metadata": {
    "colab": {
     "base_uri": "https://localhost:8080/",
     "height": 282
    },
    "colab_type": "code",
    "executionInfo": {
     "elapsed": 6423,
     "status": "ok",
     "timestamp": 1594348887470,
     "user": {
      "displayName": "anirban nayek",
      "photoUrl": "https://lh3.googleusercontent.com/a-/AOh14GhXCTdgvlsaGvJwJY3vKdhp56QTTtCdyHO7wY0vxg=s64",
      "userId": "01629633000911080543"
     },
     "user_tz": -330
    },
    "id": "916Dwr9h8BAF",
    "outputId": "910b3be3-513f-48da-d804-4f4135b7c10b"
   },
   "outputs": [
    {
     "data": {
      "text/plain": [
       "<matplotlib.axes._subplots.AxesSubplot at 0x7f3dbd7667f0>"
      ]
     },
     "execution_count": 90,
     "metadata": {
      "tags": []
     },
     "output_type": "execute_result"
    },
    {
     "data": {
      "image/png": "[encoded data removed]",
      "text/plain": [
       "<Figure size 432x288 with 1 Axes>"
      ]
     },
     "metadata": {
      "needs_background": "light",
      "tags": []
     },
     "output_type": "display_data"
    }
   ],
   "source": [
    "import seaborn as sns\n",
    "sns.distplot(y_test-prediction)"
   ]
  },
  {
   "cell_type": "code",
   "execution_count": null,
   "metadata": {
    "colab": {
     "base_uri": "https://localhost:8080/",
     "height": 67
    },
    "colab_type": "code",
    "executionInfo": {
     "elapsed": 6206,
     "status": "ok",
     "timestamp": 1594348887471,
     "user": {
      "displayName": "anirban nayek",
      "photoUrl": "https://lh3.googleusercontent.com/a-/AOh14GhXCTdgvlsaGvJwJY3vKdhp56QTTtCdyHO7wY0vxg=s64",
      "userId": "01629633000911080543"
     },
     "user_tz": -330
    },
    "id": "3ZFJcr6-8Fs2",
    "outputId": "5092ddb2-a3bd-445c-8255-fb6873b7ac20"
   },
   "outputs": [
    {
     "name": "stdout",
     "output_type": "stream",
     "text": [
      "MAE: 12.396279737893176\n",
      "MSE: 274.4084469631992\n",
      "RMSE: 16.565278354534197\n"
     ]
    }
   ],
   "source": [
    "from sklearn import metrics\n",
    "import numpy as np\n",
    "print('MAE:', metrics.mean_absolute_error(y_test, prediction))\n",
    "print('MSE:', metrics.mean_squared_error(y_test, prediction))\n",
    "print('RMSE:', np.sqrt(metrics.mean_squared_error(y_test, prediction)))"
   ]
  },
  {
   "cell_type": "code",
   "execution_count": null,
   "metadata": {
    "colab": {
     "base_uri": "https://localhost:8080/",
     "height": 34
    },
    "colab_type": "code",
    "executionInfo": {
     "elapsed": 5968,
     "status": "ok",
     "timestamp": 1594348887472,
     "user": {
      "displayName": "anirban nayek",
      "photoUrl": "https://lh3.googleusercontent.com/a-/AOh14GhXCTdgvlsaGvJwJY3vKdhp56QTTtCdyHO7wY0vxg=s64",
      "userId": "01629633000911080543"
     },
     "user_tz": -330
    },
    "id": "up40mKq48Khn",
    "outputId": "0e43c9e5-ef2a-414d-f690-434fddf68973"
   },
   "outputs": [
    {
     "data": {
      "text/plain": [
       "0.729168667143433"
      ]
     },
     "execution_count": 92,
     "metadata": {
      "tags": []
     },
     "output_type": "execute_result"
    }
   ],
   "source": [
    "from sklearn.metrics import explained_variance_score\n",
    "explained_variance_score(y_test,prediction)"
   ]
  },
  {
   "cell_type": "markdown",
   "metadata": {
    "colab_type": "text",
    "id": "y9qYP-hzDnUT"
   },
   "source": [
    "## support vector machine "
   ]
  },
  {
   "cell_type": "code",
   "execution_count": null,
   "metadata": {
    "colab": {
     "base_uri": "https://localhost:8080/",
     "height": 50
    },
    "colab_type": "code",
    "executionInfo": {
     "elapsed": 198882,
     "status": "ok",
     "timestamp": 1594349080818,
     "user": {
      "displayName": "anirban nayek",
      "photoUrl": "https://lh3.googleusercontent.com/a-/AOh14GhXCTdgvlsaGvJwJY3vKdhp56QTTtCdyHO7wY0vxg=s64",
      "userId": "01629633000911080543"
     },
     "user_tz": -330
    },
    "id": "f87OQR1d8SB_",
    "outputId": "2dcd7e06-d4e0-423a-c2b7-8e46a368ff4a"
   },
   "outputs": [
    {
     "data": {
      "text/plain": [
       "SVR(C=1.0, cache_size=200, coef0=0.0, degree=3, epsilon=0.1, gamma='scale',\n",
       "    kernel='rbf', max_iter=-1, shrinking=True, tol=0.001, verbose=False)"
      ]
     },
     "execution_count": 93,
     "metadata": {
      "tags": []
     },
     "output_type": "execute_result"
    }
   ],
   "source": [
    "from sklearn.svm import SVR\n",
    "regressor3 = SVR(kernel = 'rbf')\n",
    "regressor3.fit(x_train, y_train)"
   ]
  },
  {
   "cell_type": "code",
   "execution_count": null,
   "metadata": {
    "colab": {},
    "colab_type": "code",
    "id": "GAscShTHDu7f"
   },
   "outputs": [],
   "source": [
    "y_pred3 = regressor3.predict(x_test)"
   ]
  },
  {
   "cell_type": "code",
   "execution_count": null,
   "metadata": {
    "colab": {
     "base_uri": "https://localhost:8080/",
     "height": 34
    },
    "colab_type": "code",
    "executionInfo": {
     "elapsed": 209014,
     "status": "ok",
     "timestamp": 1594349091377,
     "user": {
      "displayName": "anirban nayek",
      "photoUrl": "https://lh3.googleusercontent.com/a-/AOh14GhXCTdgvlsaGvJwJY3vKdhp56QTTtCdyHO7wY0vxg=s64",
      "userId": "01629633000911080543"
     },
     "user_tz": -330
    },
    "id": "7qYcSqQLH6gX",
    "outputId": "d202a8df-e226-4b8f-9a17-f8ede50049e6"
   },
   "outputs": [
    {
     "data": {
      "text/plain": [
       "0.6448893270657878"
      ]
     },
     "execution_count": 95,
     "metadata": {
      "tags": []
     },
     "output_type": "execute_result"
    }
   ],
   "source": [
    "from sklearn.metrics import explained_variance_score\n",
    "explained_variance_score(y_test,y_pred3)"
   ]
  },
  {
   "cell_type": "markdown",
   "metadata": {
    "colab_type": "text",
    "id": "rO063xORyN92"
   },
   "source": [
    "## lasso regression"
   ]
  },
  {
   "cell_type": "code",
   "execution_count": null,
   "metadata": {
    "colab": {},
    "colab_type": "code",
    "id": "Y1cg-ET9IyFU"
   },
   "outputs": [],
   "source": [
    " from sklearn.linear_model import Lasso\n",
    " from sklearn.model_selection import GridSearchCV"
   ]
  },
  {
   "cell_type": "code",
   "execution_count": null,
   "metadata": {
    "colab": {
     "base_uri": "https://localhost:8080/",
     "height": 709
    },
    "colab_type": "code",
    "executionInfo": {
     "elapsed": 41181,
     "status": "ok",
     "timestamp": 1594349207299,
     "user": {
      "displayName": "anirban nayek",
      "photoUrl": "https://lh3.googleusercontent.com/a-/AOh14GhXCTdgvlsaGvJwJY3vKdhp56QTTtCdyHO7wY0vxg=s64",
      "userId": "01629633000911080543"
     },
     "user_tz": -330
    },
    "id": "0EF1XsCxyGn0",
    "outputId": "5f489c6c-7b72-455d-af65-1a344a57cbf7"
   },
   "outputs": [
    {
     "name": "stderr",
     "output_type": "stream",
     "text": [
      "/usr/local/lib/python3.6/dist-packages/sklearn/linear_model/_coordinate_descent.py:476: ConvergenceWarning: Objective did not converge. You might want to increase the number of iterations. Duality gap: 4265217.43780248, tolerance: 2529.9556965945594\n",
      "  positive)\n",
      "/usr/local/lib/python3.6/dist-packages/sklearn/linear_model/_coordinate_descent.py:476: ConvergenceWarning: Objective did not converge. You might want to increase the number of iterations. Duality gap: 4191352.91002266, tolerance: 2547.038071028663\n",
      "  positive)\n",
      "/usr/local/lib/python3.6/dist-packages/sklearn/linear_model/_coordinate_descent.py:476: ConvergenceWarning: Objective did not converge. You might want to increase the number of iterations. Duality gap: 3846834.160984494, tolerance: 2667.8126904366486\n",
      "  positive)\n",
      "/usr/local/lib/python3.6/dist-packages/sklearn/linear_model/_coordinate_descent.py:476: ConvergenceWarning: Objective did not converge. You might want to increase the number of iterations. Duality gap: 4051723.812689167, tolerance: 2712.3488913976626\n",
      "  positive)\n",
      "/usr/local/lib/python3.6/dist-packages/sklearn/linear_model/_coordinate_descent.py:476: ConvergenceWarning: Objective did not converge. You might want to increase the number of iterations. Duality gap: 4360589.5544389095, tolerance: 2646.143766019281\n",
      "  positive)\n",
      "/usr/local/lib/python3.6/dist-packages/sklearn/linear_model/_coordinate_descent.py:476: ConvergenceWarning: Objective did not converge. You might want to increase the number of iterations. Duality gap: 899962.9581980109, tolerance: 2529.9556965945594\n",
      "  positive)\n",
      "/usr/local/lib/python3.6/dist-packages/sklearn/linear_model/_coordinate_descent.py:476: ConvergenceWarning: Objective did not converge. You might want to increase the number of iterations. Duality gap: 930369.7912643701, tolerance: 2547.038071028663\n",
      "  positive)\n",
      "/usr/local/lib/python3.6/dist-packages/sklearn/linear_model/_coordinate_descent.py:476: ConvergenceWarning: Objective did not converge. You might want to increase the number of iterations. Duality gap: 766163.7619991973, tolerance: 2667.8126904366486\n",
      "  positive)\n",
      "/usr/local/lib/python3.6/dist-packages/sklearn/linear_model/_coordinate_descent.py:476: ConvergenceWarning: Objective did not converge. You might want to increase the number of iterations. Duality gap: 493605.40567142796, tolerance: 2712.3488913976626\n",
      "  positive)\n",
      "/usr/local/lib/python3.6/dist-packages/sklearn/linear_model/_coordinate_descent.py:476: ConvergenceWarning: Objective did not converge. You might want to increase the number of iterations. Duality gap: 229390.41264674813, tolerance: 2646.143766019281\n",
      "  positive)\n",
      "/usr/local/lib/python3.6/dist-packages/sklearn/linear_model/_coordinate_descent.py:476: ConvergenceWarning: Objective did not converge. You might want to increase the number of iterations. Duality gap: 899962.7982053934, tolerance: 2529.9556965945594\n",
      "  positive)\n",
      "/usr/local/lib/python3.6/dist-packages/sklearn/linear_model/_coordinate_descent.py:476: ConvergenceWarning: Objective did not converge. You might want to increase the number of iterations. Duality gap: 930366.9358013785, tolerance: 2547.038071028663\n",
      "  positive)\n",
      "/usr/local/lib/python3.6/dist-packages/sklearn/linear_model/_coordinate_descent.py:476: ConvergenceWarning: Objective did not converge. You might want to increase the number of iterations. Duality gap: 766162.0282460069, tolerance: 2667.8126904366486\n",
      "  positive)\n",
      "/usr/local/lib/python3.6/dist-packages/sklearn/linear_model/_coordinate_descent.py:476: ConvergenceWarning: Objective did not converge. You might want to increase the number of iterations. Duality gap: 493606.255578042, tolerance: 2712.3488913976626\n",
      "  positive)\n",
      "/usr/local/lib/python3.6/dist-packages/sklearn/linear_model/_coordinate_descent.py:476: ConvergenceWarning: Objective did not converge. You might want to increase the number of iterations. Duality gap: 229389.51654869597, tolerance: 2646.143766019281\n",
      "  positive)\n"
     ]
    },
    {
     "data": {
      "text/plain": [
       "GridSearchCV(cv=5, error_score=nan,\n",
       "             estimator=Lasso(alpha=1.0, copy_X=True, fit_intercept=True,\n",
       "                             max_iter=1000, normalize=False, positive=False,\n",
       "                             precompute=False, random_state=None,\n",
       "                             selection='cyclic', tol=0.0001, warm_start=False),\n",
       "             iid='deprecated', n_jobs=None,\n",
       "             param_grid={'alpha': [1e-15, 1e-10, 1e-08, 0.001, 0.01, 1, 5, 10,\n",
       "                                   20, 30, 35, 40]},\n",
       "             pre_dispatch='2*n_jobs', refit=True, return_train_score=False,\n",
       "             scoring='neg_mean_squared_error', verbose=0)"
      ]
     },
     "execution_count": 100,
     "metadata": {
      "tags": []
     },
     "output_type": "execute_result"
    }
   ],
   "source": [
    "lasso=Lasso()\n",
    "parameters={'alpha':[1e-15,1e-10,1e-8,1e-3,1e-2,1,5,10,20,30,35,40]}\n",
    "lasso_regressor=GridSearchCV(lasso,parameters,scoring='neg_mean_squared_error',cv=5)\n",
    "\n",
    "lasso_regressor.fit(x_train,y_train)"
   ]
  },
  {
   "cell_type": "code",
   "execution_count": null,
   "metadata": {
    "colab": {
     "base_uri": "https://localhost:8080/",
     "height": 50
    },
    "colab_type": "code",
    "executionInfo": {
     "elapsed": 1333,
     "status": "ok",
     "timestamp": 1594349213440,
     "user": {
      "displayName": "anirban nayek",
      "photoUrl": "https://lh3.googleusercontent.com/a-/AOh14GhXCTdgvlsaGvJwJY3vKdhp56QTTtCdyHO7wY0vxg=s64",
      "userId": "01629633000911080543"
     },
     "user_tz": -330
    },
    "id": "J7e80CMXmUw4",
    "outputId": "5764ac93-15f5-4ebf-aec7-fe46709589ee"
   },
   "outputs": [
    {
     "name": "stdout",
     "output_type": "stream",
     "text": [
      "{'alpha': 1}\n",
      "-320.82214916809124\n"
     ]
    }
   ],
   "source": [
    "print(lasso_regressor.best_params_)\n",
    "print(lasso_regressor.best_score_)"
   ]
  },
  {
   "cell_type": "code",
   "execution_count": null,
   "metadata": {
    "colab": {},
    "colab_type": "code",
    "id": "vTUu3Iw8oD7o"
   },
   "outputs": [],
   "source": [
    "prediction1 = lasso_regressor.predict(x_test)"
   ]
  },
  {
   "cell_type": "code",
   "execution_count": null,
   "metadata": {
    "colab": {
     "base_uri": "https://localhost:8080/",
     "height": 67
    },
    "colab_type": "code",
    "executionInfo": {
     "elapsed": 1547,
     "status": "ok",
     "timestamp": 1594349436233,
     "user": {
      "displayName": "anirban nayek",
      "photoUrl": "https://lh3.googleusercontent.com/a-/AOh14GhXCTdgvlsaGvJwJY3vKdhp56QTTtCdyHO7wY0vxg=s64",
      "userId": "01629633000911080543"
     },
     "user_tz": -330
    },
    "id": "UfHxGwNPnlFQ",
    "outputId": "8df90ff4-1911-4995-ec42-412c8132b792"
   },
   "outputs": [
    {
     "name": "stdout",
     "output_type": "stream",
     "text": [
      "MAE: 12.213583996827493\n",
      "MSE: 262.3653827960697\n",
      "RMSE: 16.197696836157593\n"
     ]
    }
   ],
   "source": [
    "from sklearn import metrics\n",
    "import numpy as np\n",
    "print('MAE:', metrics.mean_absolute_error(y_test, prediction1))\n",
    "print('MSE:', metrics.mean_squared_error(y_test, prediction1))\n",
    "print('RMSE:', np.sqrt(metrics.mean_squared_error(y_test, prediction1)))"
   ]
  },
  {
   "cell_type": "code",
   "execution_count": null,
   "metadata": {
    "colab": {
     "base_uri": "https://localhost:8080/",
     "height": 34
    },
    "colab_type": "code",
    "executionInfo": {
     "elapsed": 1443,
     "status": "ok",
     "timestamp": 1594349445343,
     "user": {
      "displayName": "anirban nayek",
      "photoUrl": "https://lh3.googleusercontent.com/a-/AOh14GhXCTdgvlsaGvJwJY3vKdhp56QTTtCdyHO7wY0vxg=s64",
      "userId": "01629633000911080543"
     },
     "user_tz": -330
    },
    "id": "Ca2wd-GbnqPw",
    "outputId": "ab16efe9-6d68-4917-fc06-cc6178e5c0cb"
   },
   "outputs": [
    {
     "data": {
      "text/plain": [
       "0.7417234216297871"
      ]
     },
     "execution_count": 105,
     "metadata": {
      "tags": []
     },
     "output_type": "execute_result"
    }
   ],
   "source": [
    "from sklearn.metrics import explained_variance_score\n",
    "explained_variance_score(y_test,prediction1)"
   ]
  },
  {
   "cell_type": "markdown",
   "metadata": {
    "colab_type": "text",
    "id": "eCRooGW0wp1O"
   },
   "source": [
    "## make pickle file to deploy"
   ]
  },
  {
   "cell_type": "code",
   "execution_count": null,
   "metadata": {
    "colab": {},
    "colab_type": "code",
    "id": "sjo9yVQAodYl"
   },
   "outputs": [],
   "source": [
    "import pickle\n",
    "filename = '/content/drive/My Drive/machine learning/regression/ipl_score_prediction/first_innings_score_prediction.pkl'\n",
    "pickle.dump(lasso_regressor,open(filename,'wb'))"
   ]
  },
  {
   "cell_type": "code",
   "execution_count": null,
   "metadata": {
    "colab": {},
    "colab_type": "code",
    "id": "Wo38rilpwRT3"
   },
   "outputs": [],
   "source": []
  }
 ],
 "metadata": {
  "colab": {
   "authorship_tag": "ABX9TyPPNQscm4ZDvdio2IczrYSE",
   "mount_file_id": "1NJEfldDWRI7B0u5-d3H9QP7JHp5dJJ6S",
   "name": "first_innings_score_prediction_IPL.ipynb",
   "provenance": [],
   "toc_visible": true
  },
  "kernelspec": {
   "display_name": "Python 3",
   "language": "python",
   "name": "python3"
  },
  "language_info": {
   "codemirror_mode": {
    "name": "ipython",
    "version": 3
   },
   "file_extension": ".py",
   "mimetype": "text/x-python",
   "name": "python",
   "nbconvert_exporter": "python",
   "pygments_lexer": "ipython3",
   "version": "3.7.5"
  }
 },
 "nbformat": 4,
 "nbformat_minor": 1
}
